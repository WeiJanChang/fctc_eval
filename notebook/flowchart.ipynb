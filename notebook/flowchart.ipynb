{
 "cells": [
  {
   "cell_type": "code",
   "execution_count": 1,
   "id": "cb7b1d2f",
   "metadata": {},
   "outputs": [],
   "source": [
    "from pathlib import Path  # pathlib: module, Path: class. Checking if a path exist\n",
    "from typing import Optional, List, Dict, Tuple  # typing: support for type hint\n",
    "import pandas as pd\n",
    "import numpy as np\n",
    "import collections  # This module contains different datatype to process the data: dict, list, set, and tuple.\n",
    "from pprint import pprint  # pprint.pprint() can use when you need to examine the structure of a large or complex\n",
    "# data structure. this output reveals more readable and structured way.\n",
    "from who_member_states import WHO_MEMBER_STATES\n",
    "\n",
    "__all__ = ['select_df']  # only import 'select_df'\n",
    "\n",
    "\n",
    "# test data should <10 MB\n",
    "\n",
    "def select_df(df: pd.DataFrame,\n",
    "              rename_mapping: Dict[str, str] = None,\n",
    "              column_drop: Optional[List[str]] = None,  # column_drop (param) is an optional list of string. Optional\n",
    "              # type is from Typing. default is None (no drop any column). If provide column_drop, must be ['xxx'] (\n",
    "              # list of string)\n",
    "              year: int = 2000,\n",
    "              save_path: Optional[Path] = None,\n",
    "              drop_na: Optional[List[str]] = None, ) -> pd.DataFrame:\n",
    "    \"\"\"\n",
    "    dataframe modification and save as another file\n",
    "\n",
    "    :param df: input dataframe\n",
    "    :param rename_mapping: both df have countries but the header is different\n",
    "    :param column_drop: drop the column(s) that are not informative\n",
    "    :param year: pick up the data that larger than which year\n",
    "    :param save_path: path for saving the modified dataframe\n",
    "    :param drop_na: specify if drop the na-existing column name\n",
    "    :return: modified df\n",
    "    \"\"\"\n",
    "\n",
    "    df = df.copy()  # The copy() method returns a copy of the DataFrame. By default, the copy is a \"deep copy\"\n",
    "    # meaning that any changes  made in the original DataFrame will NOT be reflected in the copy. 新跑出來的df不會影響最原始的df\n",
    "\n",
    "    if rename_mapping is not None:\n",
    "        df = df.rename(columns=rename_mapping)\n",
    "    if column_drop is not None:  # if drop specific column,df need to drop the option\n",
    "        df = df.drop(columns=column_drop)  # df 的column = column after drop, column_drop: Optional[List[str]]\n",
    "\n",
    "    year_mask: pd.Series[bool] = df['Year'] >= year  # type is list of bool; compared df[\"year\"] whether larger than\n",
    "    # default year (year: int = 2000)\n",
    "    entity_mask: List[bool] = [country in WHO_MEMBER_STATES for country in df['Entity']]  # check countries whether\n",
    "    # in df['Entity'] also in WHO_MEMBER_STATES. If Yes =True\n",
    "    modified_df: pd.DataFrame = df[year_mask & entity_mask].reset_index(\n",
    "        drop=True)  # create a new df that only meet both\n",
    "    # year_mask and entity_mask. df.reset_index(drop = True) means new index created, old index don't added in new df.\n",
    "\n",
    "    if drop_na is not None:  # drop rows with missing values ('NaN') from df\n",
    "        try:\n",
    "            modified_df.dropna(subset=drop_na, inplace=True)\n",
    "            # inplace = True means that the original df will be modified and no copy will be made.; But, if inplace = False,\n",
    "        # df will still show the initial one. subset = drop_na means drop in specific place you set.\n",
    "        except KeyError as e:\n",
    "            raise ValueError(f'{e} not in the dataframe, should be one of the {modified_df.columns.tolist()}')  # If\n",
    "            # typed wrong, show the list which should be dropped.\n",
    "    if save_path is not None:\n",
    "        modified_df.to_csv(Path)\n",
    "\n",
    "    return modified_df\n",
    "\n"
   ]
  },
  {
   "cell_type": "code",
   "execution_count": 2,
   "id": "05bd7b4f",
   "metadata": {},
   "outputs": [
    {
     "name": "stdout",
     "output_type": "stream",
     "text": [
      "114 (297066, 13)\n"
     ]
    }
   ],
   "source": [
    "raw_who_cvd_df = pd.read_csv(\n",
    "        '/Users/wei/UCD-MPH/MPH-Lecture:Modules/MPH Dissertation/Data/raw '\n",
    "        'data/WHO_Cardiovascular_Disease_Mortality_Database.csv')\n",
    "number_of_countries=raw_who_cvd_df['Country Name'].unique()\n",
    "print(len(number_of_countries),raw_who_cvd_df.shape)"
   ]
  },
  {
   "cell_type": "code",
   "execution_count": 3,
   "id": "f1c0d5dc",
   "metadata": {},
   "outputs": [
    {
     "name": "stdout",
     "output_type": "stream",
     "text": [
      "98 (98949, 7)\n"
     ]
    }
   ],
   "source": [
    "rename = {'Country Name': 'Entity'}\n",
    "column_drop = ['Age group code', 'Country Code', 'Region Name', 'Region Code',\n",
    "                   'Age-standardized death rate per 100 000 standard population', 'Unnamed: 12']\n",
    "na_header = ['Number',\n",
    "                 'Percentage of cause-specific deaths out of total deaths',\n",
    "                 'Death rate per 100 000 population']\n",
    "who_cvd_df = select_df(raw_who_cvd_df, rename_mapping=rename, column_drop=column_drop, drop_na=na_header)\n",
    "print(len(who_cvd_df['Entity'].unique()),who_cvd_df.shape)"
   ]
  },
  {
   "cell_type": "code",
   "execution_count": 4,
   "id": "25d1e068",
   "metadata": {},
   "outputs": [
    {
     "name": "stdout",
     "output_type": "stream",
     "text": [
      "310 (57051, 7)\n"
     ]
    }
   ],
   "source": [
    "raw_tobacco_df = pd.read_csv(\n",
    "        \"/Users/wei/UCD-MPH/MPH-Lecture:Modules/MPH Dissertation/Data/raw \"\n",
    "        \"data/Prevalence_of_current_tobacco_use_between_Males_and_Females.csv\")\n",
    "number_of_countries=raw_tobacco_df['Entity'].unique()\n",
    "print(len(number_of_countries),raw_tobacco_df.shape)"
   ]
  },
  {
   "cell_type": "code",
   "execution_count": 5,
   "id": "94e34314",
   "metadata": {},
   "outputs": [
    {
     "name": "stdout",
     "output_type": "stream",
     "text": [
      "159 (1113, 5)\n"
     ]
    }
   ],
   "source": [
    "column_drop = ['Code', 'Continent']\n",
    "na_header = ['Prevalence of current tobacco use, males (% of male adults)',\n",
    "                 'Prevalence of current tobacco use, females (% of female adults)']\n",
    "tobacco_df = select_df(raw_tobacco_df, column_drop=column_drop, drop_na=na_header)\n",
    "print(len(tobacco_df['Entity'].unique()),tobacco_df.shape)"
   ]
  },
  {
   "cell_type": "code",
   "execution_count": 6,
   "id": "18052fa3",
   "metadata": {},
   "outputs": [
    {
     "name": "stdout",
     "output_type": "stream",
     "text": [
      "98 (79239, 9)\n"
     ]
    }
   ],
   "source": [
    "def preprocess_cvd(df: pd.DataFrame,\n",
    "                   drop_na: Optional[List[str]] = None,\n",
    "                   save_path: Optional[Path] = None) -> pd.DataFrame:\n",
    "    \"\"\"\n",
    "    Dataframe of WHO_CVD_Mortality_Age over 15_Year over 2000.xlsx need to modify:\n",
    "    - grouping if set kwarg `grouping_age` as true  # kwarg : keyword arguments\n",
    "    - Calculate Total number of death\n",
    "    - save as another dataframe\n",
    "\n",
    "    :param df: input dataframe (WHO_CVD_Mortality_Age over 15_Year over 2000.xlsx)\n",
    "    :param drop_na: drop Age_Group <15 year-old\n",
    "    :param save_path: save modified dataframe to another excel\n",
    "    :return: df\n",
    "    \"\"\"\n",
    "\n",
    "    # Sum of number of death in each age group\n",
    "    numbers = df['Number']\n",
    "    percentage = df['Percentage of cause-specific deaths out of total deaths']\n",
    "    df[\"Total number of death\"] = numbers * 100 / percentage\n",
    "    total_number_of_death = df[\"Total number of death\"]\n",
    "    mask_nan = np.isnan(total_number_of_death)  # type: pd.Series[bool] # if value is NaN, NaN = True\n",
    "\n",
    "    df.loc[mask_nan, 'Total number of death'] = 0  # search location of df. if index ('Total number of death') is\n",
    "    # NaN, change NaN to 0. ( if no.loc :SettingWithCopyWarning: A value is trying to be set on a copy of a slice\n",
    "    # from a DataFrame\n",
    "    df['Total number of death'] = df['Total number of death'].astype(int)  # astype can cast/change multiple types (\n",
    "    # change type to int)\n",
    "    if drop_na is not None:  # drop rows with missing values ('NaN') from df\n",
    "        df = df.mask(df['Age Group'].isin(['[0]', '[1-4]', '[5-9]', '[10-14]']), np.nan)\n",
    "        df.dropna(subset=['Age Group'], inplace=True)\n",
    "\n",
    "    if save_path is not None:\n",
    "        df.to_excel(Path)\n",
    "    return df\n",
    "\n",
    "who_cvd_df = pd.read_excel(\n",
    "    '/Users/wei/Python/MPHDissertation/test_file/WHO_CVD_Mortality_Age over 15_Year over 2000.xlsx', engine='openpyxl')\n",
    "# “xlrd” supports old-style Excel files (.xls).“openpyxl” supports newer Excel file formats.\n",
    "\n",
    "who_cvd_df = preprocess_cvd(who_cvd_df)  # assign a who_cvd_df after preprocess_cvd\n",
    "\n",
    "print(len(who_cvd_df['Entity'].unique()),who_cvd_df.shape)"
   ]
  },
  {
   "cell_type": "code",
   "execution_count": 7,
   "id": "d11dd439",
   "metadata": {},
   "outputs": [
    {
     "name": "stdout",
     "output_type": "stream",
     "text": [
      "98 (1670, 11)\n"
     ]
    }
   ],
   "source": [
    "def create_age_grouping(df: pd.DataFrame,\n",
    "                        save: Optional[Path] = None) -> pd.DataFrame:\n",
    "    \"\"\"\n",
    "    Calculate: Total percentage of CVD of total deaths = Sum of number/ Sum of Total number of\n",
    "    death * 100 (Male/ Female/ All in each year and country)\n",
    "    grouping_age: Age groups --> one age group (greater 15 y/o)\n",
    "    create a new df and save it to excel\n",
    "\n",
    "    :param df: df after select_df and preprocess_cvd\n",
    "    :param save: save modified dataframe to another excel\n",
    "    :return: new df\n",
    "    \"\"\"\n",
    "\n",
    "    if 'Total number of death' not in df.columns:\n",
    "        raise RuntimeError('call preprocess_cvd in advance')\n",
    "\n",
    "    dy: dict = collections.defaultdict(list)  # defaultdict object in collections. datatype will be dict. Using list\n",
    "    # as the default_factory to group a sequence of key-value pairs into a dictionary of lists\n",
    "    group = df.groupby(['Entity', 'Year', 'Sex'])\n",
    "    info: List[Tuple] = list(group.groups.keys())  # List[Tuple]: value is a list of tuple[()].looking for the keys in a\n",
    "    # dict. The 'groups' attribute of the 'groupby' object is always dic type\n",
    "\n",
    "    for i, it in enumerate(info):  # i = index ( starting from 0) , it = item (Entity, Year, Sex). enumerate can pair\n",
    "        # index and item\n",
    "        dy['Entity'].append(it[0])  # Entity in [0]\n",
    "        dy['Year'].append(it[1])  # Year in [1]\n",
    "        dy['Sex'].append(it[2])  # Sex in [2]\n",
    "\n",
    "    numbers = group['Number']\n",
    "    total_number_of_death = group['Total number of death']\n",
    "    # noinspection PyTypeChecker todo: wt is it?\n",
    "    dy['Number'] = np.array(numbers.sum())\n",
    "    dy['Total number of death'] = np.array(total_number_of_death.sum())\n",
    "    dy['Total percentage of CVD'] = np.array(numbers.sum() / total_number_of_death.sum() * 100)\n",
    "\n",
    "    _df = pd.DataFrame.from_dict(dy)  # creates a new_df from the dy dictionary.\n",
    "\n",
    "    # change layout\n",
    "    sex_values = ['All', 'Female', 'Male']\n",
    "    new_df = _df.assign(\n",
    "        All_number=_df.query(\"Sex == 'All'\")['Number'],\n",
    "        Female_number=_df.query(\"Sex == 'Female'\")['Number'],\n",
    "        Male_number=_df.query(\"Sex == 'Male'\")['Number'],\n",
    "        All_total_number_of_death=_df.query(\"Sex == 'All'\")['Total number of death'],\n",
    "        Female_total_number_of_death=_df.query(\"Sex == 'Female'\")['Total number of death'],\n",
    "        Male_total_number_of_death=_df.query(\"Sex == 'Male'\")['Total number of death'],\n",
    "        All_total_percentage_of_CVD=_df.query(\"Sex == 'All'\")['Total percentage of CVD'],\n",
    "        Female_total_percentage_of_CVD=_df.query(\"Sex == 'Female'\")['Total percentage of CVD'],\n",
    "        Male_total_percentage_of_CVD=_df.query(\"Sex == 'Male'\")['Total percentage of CVD'])\n",
    "    new_df.reset_index(drop=True, inplace=True)\n",
    "\n",
    "    new_df = new_df.drop(['Sex', 'Number', 'Total number of death', 'Total percentage of CVD'],\n",
    "                         axis=1)  # axis = 1: specifies to drop columns\n",
    "\n",
    "    new_df = new_df.groupby(['Entity', 'Year']).first().reset_index()  # The first method is then applied to\n",
    "    # the grouped dataframe, which returns the first row of each group\n",
    "    if save:\n",
    "        new_df.to_excel(Path)\n",
    "    return new_df\n",
    "\n",
    "new_df = create_age_grouping(who_cvd_df)\n",
    "print(len(new_df['Entity'].unique()),new_df.shape)"
   ]
  },
  {
   "cell_type": "code",
   "execution_count": 8,
   "id": "d3c04236",
   "metadata": {},
   "outputs": [
    {
     "name": "stdout",
     "output_type": "stream",
     "text": [
      "171 (2345, 14)\n"
     ]
    }
   ],
   "source": [
    "# merge df1 & df2 test\n",
    "df1 = new_df\n",
    "df2 = tobacco_df\n",
    "\n",
    "cvd_tobacco = pd.merge(df1, df2, on=['Entity', 'Year'], how='outer')\n",
    "cvd_tobacco.fillna(value='NaN', inplace=True)\n",
    "print(len(cvd_tobacco['Entity'].unique()),cvd_tobacco.shape)\n"
   ]
  },
  {
   "cell_type": "code",
   "execution_count": 9,
   "id": "408f5abd",
   "metadata": {},
   "outputs": [
    {
     "name": "stdout",
     "output_type": "stream",
     "text": [
      "85 ['Albania' 'Argentina' 'Armenia' 'Australia' 'Austria' 'Azerbaijan'\n",
      " 'Bahamas' 'Bahrain' 'Barbados' 'Belarus' 'Belgium' 'Belize'\n",
      " 'Bosnia and Herzegovina' 'Brazil' 'Bulgaria' 'Canada' 'Chile' 'Colombia'\n",
      " 'Costa Rica' 'Croatia' 'Cuba' 'Cyprus' 'Czechia' 'Denmark'\n",
      " 'Dominican Republic' 'Ecuador' 'Egypt' 'El Salvador' 'Estonia' 'Fiji'\n",
      " 'Finland' 'France' 'Georgia' 'Germany' 'Greece' 'Guatemala' 'Guyana'\n",
      " 'Hungary' 'Iceland' 'Iraq' 'Ireland' 'Israel' 'Italy' 'Jamaica' 'Japan'\n",
      " 'Jordan' 'Kazakhstan' 'Kuwait' 'Kyrgyzstan' 'Latvia' 'Lebanon'\n",
      " 'Lithuania' 'Luxembourg' 'Maldives' 'Malta' 'Mauritius' 'Mexico'\n",
      " 'Montenegro' 'Netherlands' 'New Zealand' 'Norway' 'Panama' 'Paraguay'\n",
      " 'Peru' 'Philippines' 'Poland' 'Portugal' 'Romania' 'Serbia' 'Seychelles'\n",
      " 'Singapore' 'Slovakia' 'Slovenia' 'South Africa' 'Spain' 'Sri Lanka'\n",
      " 'Sweden' 'Switzerland' 'Thailand' 'Turkey' 'Turkmenistan' 'Ukraine'\n",
      " 'United Kingdom' 'Uruguay' 'Uzbekistan'] (438, 15)\n"
     ]
    }
   ],
   "source": [
    "#drop_missing_data\n",
    "df = pd.read_excel('/Users/wei/Python/MPHDissertation/test_file/Merge_CVD_Tobacco.xlsx')\n",
    "df = df.dropna(how='any')  # drop the rows having Nan\n",
    "# df.to_excel('no_missing_data.xlsx')\n",
    "countries = df['Entity'].unique()\n",
    "number_of_countries = len(countries)\n",
    "print(number_of_countries, countries, df.shape)  # 85 countries\n"
   ]
  },
  {
   "cell_type": "code",
   "execution_count": 10,
   "id": "226a6ade",
   "metadata": {},
   "outputs": [],
   "source": [
    "df = df.mask(df1['Entity'].isin(['Argentina', 'Cuba', 'Switzerland']), np.nan)\n",
    "df.dropna(subset=['Entity'], inplace=True)"
   ]
  },
  {
   "cell_type": "code",
   "execution_count": 11,
   "id": "5311eabf",
   "metadata": {},
   "outputs": [
    {
     "name": "stdout",
     "output_type": "stream",
     "text": [
      "82 (421, 15)\n"
     ]
    }
   ],
   "source": [
    "print(len(df['Entity'].unique()), df.shape)"
   ]
  },
  {
   "cell_type": "code",
   "execution_count": null,
   "id": "5c5d9879",
   "metadata": {},
   "outputs": [],
   "source": []
  }
 ],
 "metadata": {
  "kernelspec": {
   "display_name": "Python 3",
   "language": "python",
   "name": "python3"
  },
  "language_info": {
   "codemirror_mode": {
    "name": "ipython",
    "version": 3
   },
   "file_extension": ".py",
   "mimetype": "text/x-python",
   "name": "python",
   "nbconvert_exporter": "python",
   "pygments_lexer": "ipython3",
   "version": "3.8.8"
  }
 },
 "nbformat": 4,
 "nbformat_minor": 5
}
