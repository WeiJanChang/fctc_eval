{
 "cells": [
  {
   "cell_type": "code",
   "execution_count": 20,
   "id": "6c7cf46c",
   "metadata": {},
   "outputs": [
    {
     "name": "stdout",
     "output_type": "stream",
     "text": [
      "The autoreload extension is already loaded. To reload it, use:\n",
      "  %reload_ext autoreload\n"
     ]
    }
   ],
   "source": [
    "import pathlib\n",
    "import pandas as pd\n",
    "from utility import select_df\n",
    "import numpy as np\n",
    "%load_ext autoreload\n",
    "%autoreload 2\n",
    "raw_df = pd.read_csv(\"/Users/wei/UCD-MPH/MPH-Lecture:Modules/MPH Dissertation/MPH Dissertation/raw data/WHO_Cardiovascular_Disease_Mortality_Database.csv\")"
   ]
  },
  {
   "cell_type": "code",
   "execution_count": 26,
   "id": "b290d822",
   "metadata": {},
   "outputs": [],
   "source": [
    "rename = {'Country Name': 'Entity'}\n",
    "column_drop = ['Age group code','Country Code','Region Name', 'Region Code','Age-standardized death rate per 100 000 standard population','Unnamed: 12']\n",
    "na_header =['Number', \n",
    "            'Percentage of cause-specific deaths out of total deaths',\n",
    "            'Death rate per 100 000 population']\n",
    "\n",
    "a= select_df(raw_df,rename_mapping= rename, column_drop=column_drop, drop_na=na_header)\n",
    "save_path =a.to_excel('/Users/wei/UCD-MPH/MPH-Lecture:Modules/MPH Dissertation/MPH Dissertation/WHO_CVD_Mortality.xlsx')\n",
    "\n"
   ]
  },
  {
   "cell_type": "code",
   "execution_count": null,
   "id": "29056c01",
   "metadata": {},
   "outputs": [],
   "source": [
    "options=['Age15_19',\n",
    "'Age20_24',\n",
    "'Age25_29',\n",
    "'Age30_34',\n",
    "'Age35_39',\n",
    "'Age40_44',\n",
    "'Age45_49',\n",
    "'Age50_54',\n",
    "'Age55_59',\n",
    "'Age60_64',\n",
    "'Age65_69',\n",
    "'Age70_74',\n",
    "'Age75_79',\n",
    "'Age80_84',\n",
    "'Age85_over']\n",
    "Age_over15_df =new_df[new_df['Age group code'].isin(options)]\n",
    "#Age_over15_df"
   ]
  },
  {
   "cell_type": "markdown",
   "id": "4e20842a",
   "metadata": {},
   "source": [
    "calculate Age 15 to Age 85_over and create new col. "
   ]
  },
  {
   "cell_type": "code",
   "execution_count": null,
   "id": "adec256c",
   "metadata": {},
   "outputs": [],
   "source": [
    "#Age_over15_df.to_excel('/Users/wei/UCD-MPH/MPH-Lecture:Modules/MPH Dissertation/MPH Dissertation/WHO_Cardiovascular_Disease_Mortality_specific_year_Age_over15.xlsx', sheet_name='Mortality')"
   ]
  },
  {
   "cell_type": "code",
   "execution_count": null,
   "id": "ad5ee0b7",
   "metadata": {},
   "outputs": [],
   "source": [
    "Age_over15_df.insert(7, \"Total number of death\", Age_over15_df['Number']*100/Age_over15_df['Percentage of cause-specific deaths out of total deaths'])"
   ]
  },
  {
   "cell_type": "code",
   "execution_count": null,
   "id": "4de25439",
   "metadata": {},
   "outputs": [],
   "source": [
    "Age_over15_total_number_of_death_df=Age_over15_df"
   ]
  },
  {
   "cell_type": "code",
   "execution_count": null,
   "id": "b4d183ae",
   "metadata": {},
   "outputs": [],
   "source": [
    "#Age_over15_total_number_of_death_df.to_excel('/Users/wei/UCD-MPH/MPH-Lecture:Modules/MPH Dissertation/MPH Dissertation/WHO_Cardiovascular_Disease_Mortality_specific_year_Age_over15_totaldeath.xlsx', sheet_name='Mortality')"
   ]
  },
  {
   "cell_type": "markdown",
   "id": "ef9a0c91",
   "metadata": {},
   "source": [
    "NEXT:\n",
    "分別把每個國家及每個年份的Male and Female 的 SUM of number/ SUM of Total number of death * 100 --> 新的col n row."
   ]
  },
  {
   "cell_type": "code",
   "execution_count": null,
   "id": "fa957c80",
   "metadata": {},
   "outputs": [],
   "source": []
  },
  {
   "cell_type": "code",
   "execution_count": null,
   "id": "0163b456",
   "metadata": {},
   "outputs": [],
   "source": []
  }
 ],
 "metadata": {
  "kernelspec": {
   "display_name": "Python 3",
   "language": "python",
   "name": "python3"
  },
  "language_info": {
   "codemirror_mode": {
    "name": "ipython",
    "version": 3
   },
   "file_extension": ".py",
   "mimetype": "text/x-python",
   "name": "python",
   "nbconvert_exporter": "python",
   "pygments_lexer": "ipython3",
   "version": "3.8.8"
  }
 },
 "nbformat": 4,
 "nbformat_minor": 5
}
