{
 "cells": [
  {
   "cell_type": "markdown",
   "id": "fcaa6d68",
   "metadata": {},
   "source": [
    "from typing import Union, Tuple, Optional #Union type; Union[X, Y] is equivalent to X | Y and means either X or Y.\n",
    "from pathlib import Path\n",
    "import pandas as pd\n",
    "import numpy as np\n",
    "import statistics\n",
    "def load_csv(p: Union[Path, str]) -> pd.DataFrame:   \n",
    " \n",
    "    if isinstance(p, str):         \n",
    "        p = Path(p)                \n",
    "\n",
    "    if 'csv' in p.name:\n",
    "        return pd.read_csv(p, encoding='utf-8')\n",
    "\n",
    "    else:\n",
    "        f = list(p.glob('*.csv'))   \n",
    "        if len(f) == 0:                                             \n",
    "            raise FileNotFoundError(f'no csv file under the {p}')  \n",
    "        elif len(f) == 1:                                          \n",
    "            return pd.read_csv(f[0], encoding='utf-8')\n",
    "        else:\n",
    "            raise RuntimeError(f'multiple csv files under the {p}')  \n",
    "\n",
    "df = pd.read_csv(\"/Users/wei/UCD-MPH/MPH-Lecture:Modules/MPH Dissertation/MPH Dissertation/raw data/WHO Cardiovascular Disease Mortality Database_1st Dec 2022.csv\")\n"
   ]
  },
  {
   "cell_type": "code",
   "execution_count": null,
   "id": "fff3f129",
   "metadata": {},
   "outputs": [],
   "source": [
    "#df.to_excel('/Users/wei/UCD-MPH/MPH-Lecture:Modules/MPH Dissertation/MPH Dissertation/WHO_Cardiovascular_Disease_Mortality.xlsx', sheet_name='Mortality')"
   ]
  },
  {
   "cell_type": "code",
   "execution_count": null,
   "id": "dcffa7c1",
   "metadata": {},
   "outputs": [],
   "source": [
    "df['Entity'].value_counts()"
   ]
  },
  {
   "cell_type": "code",
   "execution_count": null,
   "id": "4b1843de",
   "metadata": {},
   "outputs": [],
   "source": [
    "options=[2000,2005,2010,2015,2018,2019,2020]\n",
    "new_df =df[df['Year'].isin(options)]\n",
    "new_df"
   ]
  },
  {
   "cell_type": "code",
   "execution_count": null,
   "id": "1a2181f0",
   "metadata": {},
   "outputs": [],
   "source": [
    "#new_df.to_excel('/Users/wei/UCD-MPH/MPH-Lecture:Modules/MPH Dissertation/MPH Dissertation/WHO_Cardiovascular_Disease_Mortality_specific_year.xlsx', sheet_name='Mortality')"
   ]
  },
  {
   "cell_type": "code",
   "execution_count": null,
   "id": "ae8e4a73",
   "metadata": {},
   "outputs": [],
   "source": [
    "options=['Age_all',\n",
    "'Age15_19',\n",
    "'Age20_24',\n",
    "'Age25_29',\n",
    "'Age30_34',\n",
    "'Age35_39',\n",
    "'Age40_44',\n",
    "'Age45_49',\n",
    "'Age50_54',\n",
    "'Age55_59',\n",
    "'Age60_64',\n",
    "'Age65_69',\n",
    "'Age70_74',\n",
    "'Age75_79',\n",
    "'Age80_84',\n",
    "'Age85_over']\n",
    "Age_df =new_df[new_df['Age group code'].isin(options)]\n",
    "#Age_df"
   ]
  },
  {
   "cell_type": "code",
   "execution_count": null,
   "id": "7fb7dcd7",
   "metadata": {},
   "outputs": [],
   "source": [
    "#Age_df.to_excel('/Users/wei/UCD-MPH/MPH-Lecture:Modules/MPH Dissertation/MPH Dissertation/WHO_Cardiovascular_Disease_Mortality_specific_year_age.xlsx', sheet_name='Mortality')"
   ]
  },
  {
   "cell_type": "code",
   "execution_count": null,
   "id": "29056c01",
   "metadata": {},
   "outputs": [],
   "source": [
    "options=['Age15_19',\n",
    "'Age20_24',\n",
    "'Age25_29',\n",
    "'Age30_34',\n",
    "'Age35_39',\n",
    "'Age40_44',\n",
    "'Age45_49',\n",
    "'Age50_54',\n",
    "'Age55_59',\n",
    "'Age60_64',\n",
    "'Age65_69',\n",
    "'Age70_74',\n",
    "'Age75_79',\n",
    "'Age80_84',\n",
    "'Age85_over']\n",
    "Age_over15_df =new_df[new_df['Age group code'].isin(options)]\n",
    "#Age_over15_df"
   ]
  },
  {
   "cell_type": "markdown",
   "id": "4e20842a",
   "metadata": {},
   "source": [
    "calculate Age 15 to Age 85_over and create new col. "
   ]
  },
  {
   "cell_type": "code",
   "execution_count": null,
   "id": "adec256c",
   "metadata": {},
   "outputs": [],
   "source": [
    "#Age_over15_df.to_excel('/Users/wei/UCD-MPH/MPH-Lecture:Modules/MPH Dissertation/MPH Dissertation/WHO_Cardiovascular_Disease_Mortality_specific_year_Age_over15.xlsx', sheet_name='Mortality')"
   ]
  },
  {
   "cell_type": "code",
   "execution_count": null,
   "id": "ad5ee0b7",
   "metadata": {},
   "outputs": [],
   "source": [
    "Age_over15_df.insert(7, \"Total number of death\", Age_over15_df['Number']*100/Age_over15_df['Percentage of cause-specific deaths out of total deaths'])"
   ]
  },
  {
   "cell_type": "code",
   "execution_count": null,
   "id": "4de25439",
   "metadata": {},
   "outputs": [],
   "source": [
    "Age_over15_total_number_of_death_df=Age_over15_df"
   ]
  },
  {
   "cell_type": "code",
   "execution_count": null,
   "id": "b4d183ae",
   "metadata": {},
   "outputs": [],
   "source": [
    "#Age_over15_total_number_of_death_df.to_excel('/Users/wei/UCD-MPH/MPH-Lecture:Modules/MPH Dissertation/MPH Dissertation/WHO_Cardiovascular_Disease_Mortality_specific_year_Age_over15_totaldeath.xlsx', sheet_name='Mortality')"
   ]
  },
  {
   "cell_type": "markdown",
   "id": "ef9a0c91",
   "metadata": {},
   "source": [
    "NEXT:\n",
    "分別把每個國家及每個年份的Male and Female 的 SUM of number/ SUM of Total number of death * 100 --> 新的col n row."
   ]
  },
  {
   "cell_type": "code",
   "execution_count": 26,
   "id": "59c51ef9",
   "metadata": {},
   "outputs": [],
   "source": [
    "import pandas as pd\n",
    "from utility import select_df\n",
    "import numpy as np"
   ]
  },
  {
   "cell_type": "code",
   "execution_count": 27,
   "id": "7b4a382d",
   "metadata": {},
   "outputs": [
    {
     "name": "stdout",
     "output_type": "stream",
     "text": [
      "The autoreload extension is already loaded. To reload it, use:\n",
      "  %reload_ext autoreload\n"
     ]
    }
   ],
   "source": [
    "%load_ext autoreload\n",
    "%autoreload 2\n",
    "raw_df = pd.read_csv(\"/Users/wei/UCD-MPH/MPH-Lecture:Modules/MPH Dissertation/MPH Dissertation/raw data/WHO_Cardiovascular_Disease_Mortality_Database.csv\")"
   ]
  },
  {
   "cell_type": "code",
   "execution_count": 29,
   "id": "86601760",
   "metadata": {},
   "outputs": [],
   "source": [
    "column_drop = ['Country Code','Region Name', 'Region Code','Age-standardized death rate per 100 000 standard population','Unnamed: 12']\n",
    "na_header =['Number', \n",
    "            'Percentage of cause-specific deaths out of total deaths',\n",
    "            'Death rate per 100 000 population']\n",
    "rename =['Country Name']\n",
    "df=select_df(raw_df, column_drop=column_drop, drop_na=na_header, rename=rename)"
   ]
  },
  {
   "cell_type": "code",
   "execution_count": null,
   "id": "3f50cadb",
   "metadata": {},
   "outputs": [],
   "source": []
  }
 ],
 "metadata": {
  "kernelspec": {
   "display_name": "Python 3",
   "language": "python",
   "name": "python3"
  },
  "language_info": {
   "codemirror_mode": {
    "name": "ipython",
    "version": 3
   },
   "file_extension": ".py",
   "mimetype": "text/x-python",
   "name": "python",
   "nbconvert_exporter": "python",
   "pygments_lexer": "ipython3",
   "version": "3.8.8"
  }
 },
 "nbformat": 4,
 "nbformat_minor": 5
}
