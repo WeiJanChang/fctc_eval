{
 "cells": [
  {
   "cell_type": "code",
   "execution_count": null,
   "id": "26853cf2",
   "metadata": {},
   "outputs": [],
   "source": [
    "from typing import Union, Tuple, Optional #Union type; Union[X, Y] is equivalent to X | Y and means either X or Y.\n",
    "from pathlib import Path\n",
    "import pandas as pd\n",
    "import numpy as np\n",
    "import statistics\n",
    "def load_csv(p: Union[Path, str]) -> pd.DataFrame:   \n",
    " \n",
    "    if isinstance(p, str):         \n",
    "        p = Path(p)                \n",
    "\n",
    "    if 'csv' in p.name:\n",
    "        return pd.read_csv(p, encoding='utf-8')\n",
    "\n",
    "    else:\n",
    "        f = list(p.glob('*.csv'))   \n",
    "        if len(f) == 0:                                             \n",
    "            raise FileNotFoundError(f'no csv file under the {p}')  \n",
    "        elif len(f) == 1:                                          \n",
    "            return pd.read_csv(f[0], encoding='utf-8')\n",
    "        else:\n",
    "            raise RuntimeError(f'multiple csv files under the {p}')  \n",
    "\n",
    "df = pd.read_csv(\"/Users/wei/mph_dissertation/test_file/WHO Cardiovascular Mortality Database/WHO Cardiovascular Disease Mortality Database_1st Dec 2022.csv\")\n",
    "#df"
   ]
  },
  {
   "cell_type": "code",
   "execution_count": null,
   "id": "f374a03f",
   "metadata": {},
   "outputs": [],
   "source": [
    "%load_ext autoreload\n",
    "%autoreload 2\n",
    "raw_df = pd.read_csv(\"/Users/wei/mph_dissertation/test_file/WHO Cardiovascular Mortality Database/WHO Cardiovascular Disease Mortality Database_1st Dec 2022.csv\")\n"
   ]
  },
  {
   "cell_type": "code",
   "execution_count": null,
   "id": "de141930",
   "metadata": {},
   "outputs": [],
   "source": [
    "import pandas as pd\n",
    "from utility_WHO import select_df\n",
    "import numpy as np\n",
    "\n",
    "column_drop = ['Country Code','Region Name', 'Region Code','Age-standardized death rate per 100 000 standard population','Unnamed: 12']\n",
    "na_header =['Number', \n",
    "            'Percentage of cause-specific deaths out of total deaths',\n",
    "            'Death rate per 100 000 population'\n",
    "           ]\n",
    "df=select_df(raw_df, column_drop=column_drop, drop_na=na_header)\n",
    "df"
   ]
  },
  {
   "cell_type": "code",
   "execution_count": null,
   "id": "fff3f129",
   "metadata": {},
   "outputs": [],
   "source": [
    "#df.to_excel('/Users/wei/UCD-MPH/MPH-Lecture:Modules/MPH Dissertation/MPH Dissertation/WHO_Cardiovascular_Disease_Mortality.xlsx', sheet_name='Mortality')"
   ]
  },
  {
   "cell_type": "code",
   "execution_count": null,
   "id": "dcffa7c1",
   "metadata": {},
   "outputs": [],
   "source": [
    "df['Entity'].value_counts()"
   ]
  },
  {
   "cell_type": "code",
   "execution_count": null,
   "id": "4b1843de",
   "metadata": {},
   "outputs": [],
   "source": [
    "options=[2000,2005,2010,2015,2018,2019,2020]\n",
    "new_df =df[df['Year'].isin(options)]\n",
    "new_df"
   ]
  },
  {
   "cell_type": "code",
   "execution_count": null,
   "id": "1a2181f0",
   "metadata": {},
   "outputs": [],
   "source": [
    "#new_df.to_excel('/Users/wei/UCD-MPH/MPH-Lecture:Modules/MPH Dissertation/MPH Dissertation/WHO_Cardiovascular_Disease_Mortality_specific_year.xlsx', sheet_name='Mortality')"
   ]
  },
  {
   "cell_type": "code",
   "execution_count": null,
   "id": "ae8e4a73",
   "metadata": {},
   "outputs": [],
   "source": [
    "options=['Age_all',\n",
    "'Age15_19',\n",
    "'Age20_24',\n",
    "'Age25_29',\n",
    "'Age30_34',\n",
    "'Age35_39',\n",
    "'Age40_44',\n",
    "'Age45_49',\n",
    "'Age50_54',\n",
    "'Age55_59',\n",
    "'Age60_64',\n",
    "'Age65_69',\n",
    "'Age70_74',\n",
    "'Age75_79',\n",
    "'Age80_84',\n",
    "'Age85_over']\n",
    "Age_df =new_df[new_df['Age group code'].isin(options)]\n",
    "#Age_df"
   ]
  },
  {
   "cell_type": "code",
   "execution_count": null,
   "id": "7fb7dcd7",
   "metadata": {},
   "outputs": [],
   "source": [
    "#Age_df.to_excel('/Users/wei/UCD-MPH/MPH-Lecture:Modules/MPH Dissertation/MPH Dissertation/WHO_Cardiovascular_Disease_Mortality_specific_year_age.xlsx', sheet_name='Mortality')"
   ]
  },
  {
   "cell_type": "code",
   "execution_count": null,
   "id": "29056c01",
   "metadata": {},
   "outputs": [],
   "source": [
    "options=['Age15_19',\n",
    "'Age20_24',\n",
    "'Age25_29',\n",
    "'Age30_34',\n",
    "'Age35_39',\n",
    "'Age40_44',\n",
    "'Age45_49',\n",
    "'Age50_54',\n",
    "'Age55_59',\n",
    "'Age60_64',\n",
    "'Age65_69',\n",
    "'Age70_74',\n",
    "'Age75_79',\n",
    "'Age80_84',\n",
    "'Age85_over']\n",
    "Age_over15_df =new_df[new_df['Age group code'].isin(options)]\n",
    "#Age_over15_df"
   ]
  },
  {
   "cell_type": "markdown",
   "id": "4e20842a",
   "metadata": {},
   "source": [
    "calculate Age 15 to Age 85_over and create new col. "
   ]
  },
  {
   "cell_type": "code",
   "execution_count": null,
   "id": "adec256c",
   "metadata": {},
   "outputs": [],
   "source": [
    "#Age_over15_df.to_excel('/Users/wei/UCD-MPH/MPH-Lecture:Modules/MPH Dissertation/MPH Dissertation/WHO_Cardiovascular_Disease_Mortality_specific_year_Age_over15.xlsx', sheet_name='Mortality')"
   ]
  },
  {
   "cell_type": "code",
   "execution_count": null,
   "id": "ad5ee0b7",
   "metadata": {},
   "outputs": [],
   "source": [
    "Age_over15_df.insert(7, \"Total number of death\", Age_over15_df['Number']*100/Age_over15_df['Percentage of cause-specific deaths out of total deaths'])"
   ]
  },
  {
   "cell_type": "code",
   "execution_count": null,
   "id": "4de25439",
   "metadata": {},
   "outputs": [],
   "source": [
    "Age_over15_total_number_of_death_df=Age_over15_df"
   ]
  },
  {
   "cell_type": "code",
   "execution_count": null,
   "id": "b4d183ae",
   "metadata": {},
   "outputs": [],
   "source": [
    "#Age_over15_total_number_of_death_df.to_excel('/Users/wei/UCD-MPH/MPH-Lecture:Modules/MPH Dissertation/MPH Dissertation/WHO_Cardiovascular_Disease_Mortality_specific_year_Age_over15_totaldeath.xlsx', sheet_name='Mortality')"
   ]
  },
  {
   "cell_type": "markdown",
   "id": "ef9a0c91",
   "metadata": {},
   "source": [
    "NEXT:\n",
    "分別把每個國家及每個年份的Male and Female 的 SUM of number/ SUM of Total number of death * 100 --> 新的col n row."
   ]
  },
  {
   "cell_type": "code",
   "execution_count": 20,
   "id": "c8111d04",
   "metadata": {},
   "outputs": [],
   "source": [
    "import pandas as pd "
   ]
  },
  {
   "cell_type": "code",
   "execution_count": 22,
   "id": "f5a4830d",
   "metadata": {},
   "outputs": [
    {
     "data": {
      "text/html": [
       "<div>\n",
       "<style scoped>\n",
       "    .dataframe tbody tr th:only-of-type {\n",
       "        vertical-align: middle;\n",
       "    }\n",
       "\n",
       "    .dataframe tbody tr th {\n",
       "        vertical-align: top;\n",
       "    }\n",
       "\n",
       "    .dataframe thead th {\n",
       "        text-align: right;\n",
       "    }\n",
       "</style>\n",
       "<table border=\"1\" class=\"dataframe\">\n",
       "  <thead>\n",
       "    <tr style=\"text-align: right;\">\n",
       "      <th></th>\n",
       "      <th>a</th>\n",
       "      <th>b</th>\n",
       "      <th>c</th>\n",
       "    </tr>\n",
       "  </thead>\n",
       "  <tbody>\n",
       "    <tr>\n",
       "      <th>0</th>\n",
       "      <td>1</td>\n",
       "      <td>2.0</td>\n",
       "      <td>3</td>\n",
       "    </tr>\n",
       "    <tr>\n",
       "      <th>1</th>\n",
       "      <td>1</td>\n",
       "      <td>NaN</td>\n",
       "      <td>4</td>\n",
       "    </tr>\n",
       "  </tbody>\n",
       "</table>\n",
       "</div>"
      ],
      "text/plain": [
       "   a    b  c\n",
       "0  1  2.0  3\n",
       "1  1  NaN  4"
      ]
     },
     "execution_count": 22,
     "metadata": {},
     "output_type": "execute_result"
    }
   ],
   "source": [
    "x = [[1, 2, 3], [1, None, 4]]\n",
    "df = pd.DataFrame(x, columns=[\"a\", \"b\", \"c\"])\n",
    "df"
   ]
  },
  {
   "cell_type": "code",
   "execution_count": 23,
   "id": "eb9e05ad",
   "metadata": {},
   "outputs": [
    {
     "data": {
      "text/html": [
       "<div>\n",
       "<style scoped>\n",
       "    .dataframe tbody tr th:only-of-type {\n",
       "        vertical-align: middle;\n",
       "    }\n",
       "\n",
       "    .dataframe tbody tr th {\n",
       "        vertical-align: top;\n",
       "    }\n",
       "\n",
       "    .dataframe thead th {\n",
       "        text-align: right;\n",
       "    }\n",
       "</style>\n",
       "<table border=\"1\" class=\"dataframe\">\n",
       "  <thead>\n",
       "    <tr style=\"text-align: right;\">\n",
       "      <th></th>\n",
       "      <th>b</th>\n",
       "      <th>c</th>\n",
       "    </tr>\n",
       "    <tr>\n",
       "      <th>a</th>\n",
       "      <th></th>\n",
       "      <th></th>\n",
       "    </tr>\n",
       "  </thead>\n",
       "  <tbody>\n",
       "    <tr>\n",
       "      <th>1</th>\n",
       "      <td>2.0</td>\n",
       "      <td>7</td>\n",
       "    </tr>\n",
       "  </tbody>\n",
       "</table>\n",
       "</div>"
      ],
      "text/plain": [
       "     b  c\n",
       "a        \n",
       "1  2.0  7"
      ]
     },
     "execution_count": 23,
     "metadata": {},
     "output_type": "execute_result"
    }
   ],
   "source": [
    "df.groupby([\"a\"]).sum()"
   ]
  },
  {
   "cell_type": "code",
   "execution_count": 17,
   "id": "edcc5e80",
   "metadata": {},
   "outputs": [],
   "source": []
  },
  {
   "cell_type": "code",
   "execution_count": null,
   "id": "bd599957",
   "metadata": {},
   "outputs": [],
   "source": []
  },
  {
   "cell_type": "code",
   "execution_count": null,
   "id": "a22eb718",
   "metadata": {},
   "outputs": [],
   "source": []
  }
 ],
 "metadata": {
  "kernelspec": {
   "display_name": "Python 3",
   "language": "python",
   "name": "python3"
  },
  "language_info": {
   "codemirror_mode": {
    "name": "ipython",
    "version": 3
   },
   "file_extension": ".py",
   "mimetype": "text/x-python",
   "name": "python",
   "nbconvert_exporter": "python",
   "pygments_lexer": "ipython3",
   "version": "3.8.8"
  }
 },
 "nbformat": 4,
 "nbformat_minor": 5
}
