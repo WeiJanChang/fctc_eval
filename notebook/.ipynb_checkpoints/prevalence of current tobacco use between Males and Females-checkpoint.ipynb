{
 "cells": [
  {
   "cell_type": "code",
   "execution_count": 1,
   "id": "6ec3ad50",
   "metadata": {},
   "outputs": [],
   "source": [
    "import pandas as pd\n",
    "from utility import select_df\n",
    "import numpy as np"
   ]
  },
  {
   "cell_type": "code",
   "execution_count": 2,
   "id": "7da6db03",
   "metadata": {},
   "outputs": [],
   "source": [
    "# reload automatically from the imported scripts\n",
    "%load_ext autoreload\n",
    "%autoreload 2\n",
    "raw_df = pd.read_csv(\"/Users/wei/UCD-MPH/MPH-Lecture:Modules/MPH Dissertation/MPH Dissertation/raw data/Prevalence_of_current_tobacco_use_between_Males_and_Females.csv\")"
   ]
  },
  {
   "cell_type": "code",
   "execution_count": 5,
   "id": "7511fd71",
   "metadata": {},
   "outputs": [
    {
     "data": {
      "text/plain": [
       "Denmark          7\n",
       "United States    7\n",
       "Austria          7\n",
       "El Salvador      7\n",
       "Montenegro       7\n",
       "                ..\n",
       "South Africa     7\n",
       "India            7\n",
       "Sri Lanka        7\n",
       "Senegal          7\n",
       "Ethiopia         7\n",
       "Name: Entity, Length: 159, dtype: int64"
      ]
     },
     "execution_count": 5,
     "metadata": {},
     "output_type": "execute_result"
    }
   ],
   "source": [
    "column_drop = ['Code', 'Continent']\n",
    "na_header =['Prevalence of current tobacco use, males (% of male adults)', \n",
    "            'Prevalence of current tobacco use, females (% of female adults)']\n",
    "Tobacco_use_in_WHO_MEMBER_STATES=select_df(raw_df, column_drop=column_drop, drop_na=na_header)\n",
    "Tobacco_use_in_WHO_MEMBER_STATES['Entity'].value_counts()"
   ]
  },
  {
   "cell_type": "code",
   "execution_count": 6,
   "id": "30da1313",
   "metadata": {},
   "outputs": [],
   "source": [
    "Tobacco_use_in_WHO_MEMBER_STATES.to_excel('/Users/wei/UCD-MPH/MPH-Lecture:Modules/MPH Dissertation/MPH Dissertation/Tobacco_use_in_WHO_MEMBER_STATES.xlsx', sheet_name='Tobacco')"
   ]
  },
  {
   "cell_type": "code",
   "execution_count": null,
   "id": "752c0d78",
   "metadata": {},
   "outputs": [],
   "source": []
  }
 ],
 "metadata": {
  "kernelspec": {
   "display_name": "Python 3",
   "language": "python",
   "name": "python3"
  },
  "language_info": {
   "codemirror_mode": {
    "name": "ipython",
    "version": 3
   },
   "file_extension": ".py",
   "mimetype": "text/x-python",
   "name": "python",
   "nbconvert_exporter": "python",
   "pygments_lexer": "ipython3",
   "version": "3.8.8"
  }
 },
 "nbformat": 4,
 "nbformat_minor": 5
}
