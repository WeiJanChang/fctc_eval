{
 "cells": [
  {
   "cell_type": "code",
   "execution_count": 7,
   "id": "6ec3ad50",
   "metadata": {},
   "outputs": [],
   "source": [
    "import pandas as pd\n",
    "from utility import select_df\n",
    "import numpy as np"
   ]
  },
  {
   "cell_type": "code",
   "execution_count": 8,
   "id": "7da6db03",
   "metadata": {},
   "outputs": [
    {
     "name": "stdout",
     "output_type": "stream",
     "text": [
      "The autoreload extension is already loaded. To reload it, use:\n",
      "  %reload_ext autoreload\n"
     ]
    }
   ],
   "source": [
    "# reload automatically from the imported scripts\n",
    "%load_ext autoreload\n",
    "%autoreload 2\n",
    "raw_df = pd.read_csv(\"/Users/wei/UCD-MPH/MPH-Lecture:Modules/MPH Dissertation/MPH Dissertation/raw data/Prevalence_of_current_tobacco_use_between_Males_and_Females.csv\")"
   ]
  },
  {
   "cell_type": "code",
   "execution_count": 12,
   "id": "7511fd71",
   "metadata": {},
   "outputs": [],
   "source": [
    "column_drop = ['Code', 'Continent']\n",
    "na_header =['Prevalence of current tobacco use, males (% of male adults)', \n",
    "            'Prevalence of current tobacco use, females (% of female adults)']\n",
    "Tobacco_use_in_WHO_MEMBER_STATES=select_df(raw_df, column_drop=column_drop, drop_na=na_header)\n",
    "#Tobacco_use_in_WHO_MEMBER_STATES['Entity'].value_counts()"
   ]
  },
  {
   "cell_type": "code",
   "execution_count": 6,
   "id": "30da1313",
   "metadata": {},
   "outputs": [],
   "source": [
    "#Tobacco_use_in_WHO_MEMBER_STATES.to_excel('/Users/wei/UCD-MPH/MPH-Lecture:Modules/MPH Dissertation/MPH Dissertation/Tobacco_use_in_WHO_MEMBER_STATES.xlsx', sheet_name='Tobacco')"
   ]
  },
  {
   "cell_type": "code",
   "execution_count": null,
   "id": "752c0d78",
   "metadata": {},
   "outputs": [],
   "source": []
  }
 ],
 "metadata": {
  "kernelspec": {
   "display_name": "Python 3",
   "language": "python",
   "name": "python3"
  },
  "language_info": {
   "codemirror_mode": {
    "name": "ipython",
    "version": 3
   },
   "file_extension": ".py",
   "mimetype": "text/x-python",
   "name": "python",
   "nbconvert_exporter": "python",
   "pygments_lexer": "ipython3",
   "version": "3.8.8"
  }
 },
 "nbformat": 4,
 "nbformat_minor": 5
}
