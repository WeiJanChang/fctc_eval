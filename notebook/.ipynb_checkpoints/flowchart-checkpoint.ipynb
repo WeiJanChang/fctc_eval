{
 "cells": [
  {
   "cell_type": "code",
   "execution_count": 1,
   "id": "cb7b1d2f",
   "metadata": {},
   "outputs": [],
   "source": [
    "from pathlib import Path  \n",
    "from typing import Optional, List, Dict, Tuple \n",
    "import pandas as pd\n",
    "import numpy as np\n",
    "import collections  \n",
    "from pprint import pprint \n",
    "from who_member_states import WHO_MEMBER_STATES"
   ]
  },
  {
   "cell_type": "code",
   "execution_count": 2,
   "id": "fd64d0c3",
   "metadata": {},
   "outputs": [],
   "source": [
    "\n",
    "__all__ = ['select_df']  # only import 'select_df'\n",
    "\n",
    "\n",
    "# test data should <10 MB\n",
    "\n",
    "def select_df(df: pd.DataFrame,\n",
    "              rename_mapping: Dict[str, str] = None,\n",
    "              column_drop: Optional[List[str]] = None,  # column_drop (param) is an optional list of string. Optional\n",
    "              # type is from Typing. default is None (no drop any column). If provide column_drop, must be ['xxx'] (\n",
    "              # list of string)\n",
    "              year: int = 2000,\n",
    "              save_path: Optional[Path] = None,\n",
    "              drop_na: Optional[List[str]] = None, ) -> pd.DataFrame:\n",
    "    \"\"\"\n",
    "    dataframe modification and save as another file\n",
    "\n",
    "    :param df: input dataframe\n",
    "    :param rename_mapping: both df have countries but the header is different\n",
    "    :param column_drop: drop the column(s) that are not informative\n",
    "    :param year: pick up the data that larger than which year\n",
    "    :param save_path: path for saving the modified dataframe\n",
    "    :param drop_na: specify if drop the na-existing column name\n",
    "    :return: modified df\n",
    "    \"\"\"\n",
    "\n",
    "    df = df.copy()  # The copy() method returns a copy of the DataFrame. By default, the copy is a \"deep copy\"\n",
    "    # meaning that any changes  made in the original DataFrame will NOT be reflected in the copy. 新跑出來的df不會影響最原始的df\n",
    "\n",
    "    if rename_mapping is not None:\n",
    "        df = df.rename(columns=rename_mapping)\n",
    "    if column_drop is not None:  # if drop specific column,df need to drop the option\n",
    "        df = df.drop(columns=column_drop)  # df 的column = column after drop, column_drop: Optional[List[str]]\n",
    "\n",
    "    year_mask: pd.Series[bool] = df['Year'] >= year  # type is list of bool; compared df[\"year\"] whether larger than\n",
    "    # default year (year: int = 2000)\n",
    "    #    entity_mask: List[bool] = [country in WHO_MEMBER_STATES for country in\n",
    "    #                              df['Country Name']]  # check countries whether\n",
    "    # in df['Entity'] also in WHO_MEMBER_STATES. If Yes =True\n",
    "    modified_df: pd.DataFrame = df[year_mask].reset_index(\n",
    "        drop=True)  # create a new df that only meet both\n",
    "    # year_mask and entity_mask. df.reset_index(drop = True) means new index created, old index don't added in new df.\n",
    "\n",
    "    if drop_na is not None:  # drop rows with missing values ('NaN') from df\n",
    "        try:\n",
    "            modified_df.dropna(subset=drop_na, inplace=True)\n",
    "            # inplace = True means that the original df will be modified and no copy will be made.; But, if inplace =\n",
    "            # False, df will still show the initial one. subset = drop_na means drop in specific place you set.\n",
    "        except KeyError as e:\n",
    "            raise ValueError(f'{e} not in the dataframe, should be one of the {modified_df.columns.tolist()}')  # If\n",
    "            # typed wrong, show the list which should be dropped.\n",
    "    if save_path is not None:\n",
    "        modified_df.to_excel(save_path)\n",
    "\n",
    "    return modified_df\n"
   ]
  },
  {
   "cell_type": "code",
   "execution_count": 3,
   "id": "05bd7b4f",
   "metadata": {},
   "outputs": [],
   "source": [
    "if __name__ == '__main__':\n",
    "    raw_who_cvd_df = pd.read_csv('/Users/wei/UCD-MPH/MPH Lecture/MPH Dissertation/Data (WHO CVD and Tobacco Use)/raw data/WHOMortalityDatabase_Deaths_sex_age_a_country_area_year-Cardiovascular diseases_7th February 2023.csv')\n",
    "column_drop = ['Age group code', 'Unnamed: 12']\n",
    "na_header = ['Number',\n",
    "             'Percentage of cause-specific deaths out of total deaths',\n",
    "             'Death rate per 100 000 population']\n",
    "save_path = (\n",
    "    '/Users/wei/UCD-MPH/MPH Lecture/MPH Dissertation/Data (WHO CVD and Tobacco Use)/WHO_Cardiovascular_Disease_Mortality_Database.xlsx')\n",
    "who_cvd_df = select_df(raw_who_cvd_df, column_drop=column_drop, drop_na=na_header,\n",
    "                       save_path=save_path)"
   ]
  },
  {
   "cell_type": "code",
   "execution_count": 4,
   "id": "f1c0d5dc",
   "metadata": {},
   "outputs": [
    {
     "name": "stdout",
     "output_type": "stream",
     "text": [
      "114 (297066, 13) ['Region Code', 'Region Name', 'Country Code', 'Country Name', 'Year', 'Sex', 'Age group code', 'Age Group', 'Number', 'Percentage of cause-specific deaths out of total deaths', 'Age-standardized death rate per 100 000 standard population', 'Death rate per 100 000 population', 'Unnamed: 12']\n",
      "2020\n",
      "1950\n"
     ]
    }
   ],
   "source": [
    "number_of_countries=raw_who_cvd_df['Country Name'].unique()\n",
    "print(len(number_of_countries),raw_who_cvd_df.shape, raw_who_cvd_df.columns.tolist())\n",
    "print(max(raw_who_cvd_df['Year']))\n",
    "print(min(raw_who_cvd_df['Year']))"
   ]
  },
  {
   "cell_type": "code",
   "execution_count": 5,
   "id": "c5685f9e",
   "metadata": {},
   "outputs": [
    {
     "name": "stdout",
     "output_type": "stream",
     "text": [
      "111 (111401, 11) ['Region Code', 'Region Name', 'Country Code', 'Country Name', 'Year', 'Sex', 'Age Group', 'Number', 'Percentage of cause-specific deaths out of total deaths', 'Age-standardized death rate per 100 000 standard population', 'Death rate per 100 000 population']\n"
     ]
    }
   ],
   "source": [
    "print(len(who_cvd_df['Country Name'].unique()),who_cvd_df.shape,who_cvd_df.columns.tolist())"
   ]
  },
  {
   "cell_type": "code",
   "execution_count": 6,
   "id": "6a15262f",
   "metadata": {},
   "outputs": [
    {
     "name": "stdout",
     "output_type": "stream",
     "text": [
      "Region Code                                                         0\n",
      "Region Name                                                         0\n",
      "Country Code                                                        0\n",
      "Country Name                                                        0\n",
      "Year                                                                0\n",
      "Sex                                                                 0\n",
      "Age group code                                                      0\n",
      "Age Group                                                           0\n",
      "Number                                                           1593\n",
      "Percentage of cause-specific deaths out of total deaths          9763\n",
      "Age-standardized death rate per 100 000 standard population    283341\n",
      "Death rate per 100 000 population                               25020\n",
      "Unnamed: 12                                                    297066\n",
      "dtype: int64\n",
      "616783\n"
     ]
    }
   ],
   "source": [
    "# 計算每列中的缺失值總數\n",
    "print(raw_who_cvd_df.isna().sum(axis=0))\n",
    "\n",
    "print(raw_who_cvd_df.isna().sum().sum())"
   ]
  },
  {
   "cell_type": "code",
   "execution_count": 7,
   "id": "18052fa3",
   "metadata": {},
   "outputs": [],
   "source": [
    "\n",
    "def preprocess_cvd(df: pd.DataFrame,\n",
    "                   drop_na: Optional[List[str]] = None,\n",
    "                   save_path: Optional[Path] = None) -> pd.DataFrame:\n",
    "    \"\"\"\n",
    "    Dataframe of WHO_Cardiovascular_Disease_Mortality_Database.xlsx need to modify:\n",
    "    - grouping if set kwarg `grouping_age` as true  # kwarg : keyword arguments\n",
    "    - Calculate Total number of death\n",
    "    - only left age >15 years old\n",
    "    - save as another dataframe\n",
    "\n",
    "    :param df: input dataframe (WHO_Cardiovascular_Disease_Mortality_Database.xlsx)\n",
    "    :param drop_na: drop Age_Group <15 year-old\n",
    "    :param save_path: save modified dataframe to another excel\n",
    "    :return: df\n",
    "    \"\"\"\n",
    "\n",
    "    # Sum of number of death in each age group\n",
    "    numbers = df['Number']\n",
    "    percentage = df['Percentage of cause-specific deaths out of total deaths']\n",
    "    df[\"Total Number of Deaths\"] = numbers * 100 / percentage\n",
    "    total_number_of_death = df[\"Total Number of Deaths\"]\n",
    "    mask_nan = np.isnan(total_number_of_death)  # type: pd.Series[bool] # if value is NaN, NaN = True\n",
    "\n",
    "    df.loc[\n",
    "        mask_nan, \"Total Number of Deaths\"] = 0  # search location of df. if index ('Total number of death') is\n",
    "    # NaN, change NaN to 0. ( if no.loc :SettingWithCopyWarning: A value is trying to be set on a copy of a slice\n",
    "    # from a DataFrame\n",
    "    df[\"Total Number of Deaths\"] = df[\"Total Number of Deaths\"].astype(\n",
    "        int)  # astype can cast/change multiple types (\n",
    "    # change type to int)\n",
    "    if drop_na is not None:  # drop rows with missing values ('NaN') from df\n",
    "        df = df.mask(df['Age Group'].isin(['[0]', '[1-4]', '[5-9]', '[10-14]','[All]']), np.nan)\n",
    "        df.dropna(subset=['Age Group'], inplace=True)\n",
    "\n",
    "    if save_path is not None:\n",
    "        df.to_excel(save_path)\n",
    "    return df"
   ]
  },
  {
   "cell_type": "code",
   "execution_count": 8,
   "id": "1f23dc2f",
   "metadata": {},
   "outputs": [
    {
     "name": "stdout",
     "output_type": "stream",
     "text": [
      "110 (83584, 13) ['Unnamed: 0', 'Region Code', 'Region Name', 'Country Code', 'Country Name', 'Year', 'Sex', 'Age Group', 'Number', 'Percentage of cause-specific deaths out of total deaths', 'Age-standardized death rate per 100 000 standard population', 'Death rate per 100 000 population', 'Total Number of Deaths']\n"
     ]
    }
   ],
   "source": [
    "who_cvd_df= pd.read_excel('/Users/wei/UCD-MPH/MPH Lecture/MPH Dissertation/Data (WHO CVD and Tobacco Use)/WHO_Cardiovascular_Disease_Mortality_Database.xlsx')\n",
    "# “xlrd” supports old-style Excel files (.xls).“openpyxl” supports newer Excel file formats.\n",
    "drop_na =['Age Group']\n",
    "save_path=('/Users/wei/UCD-MPH/MPH Lecture/MPH Dissertation/Data (WHO CVD and Tobacco Use)/WHO_Cardiovascular_Disease_Mortality_Database_preprocess.xlsx')\n",
    "who_cvd_df_preprocess = preprocess_cvd(who_cvd_df,drop_na= drop_na,save_path=save_path)  # assign a who_cvd_df after preprocess_cvd\n",
    "print(len(who_cvd_df_preprocess['Country Name'].unique()),who_cvd_df_preprocess.shape,who_cvd_df_preprocess.columns.tolist())"
   ]
  },
  {
   "cell_type": "code",
   "execution_count": 9,
   "id": "d11dd439",
   "metadata": {},
   "outputs": [],
   "source": [
    "\n",
    "def create_age_grouping(df: pd.DataFrame,\n",
    "                        save_path: Optional[Path] = None) -> pd.DataFrame:\n",
    "    \"\"\"\n",
    "    Calculate: Total percentage of CVD of total deaths = Sum of number/ Sum of Total number of cause-specific deaths\n",
    "    * 100 (Male/ Female/ All in each year and country)\n",
    "    grouping_age: Age groups --> one age group (greater 15 y/o)\n",
    "    create a new df and save it to excel\n",
    "\n",
    "    :param df: df after select_df and preprocess_cvd\n",
    "    :param save: save modified dataframe to another excel\n",
    "    :return: new df\n",
    "    \"\"\"\n",
    "\n",
    "    if 'Total Number of Deaths' not in df.columns:\n",
    "        raise RuntimeError('call preprocess_cvd in advance')\n",
    "\n",
    "    dy: dict = collections.defaultdict(list)  # defaultdict object in collections. datatype will be dict. Using list\n",
    "    # as the default_factory to group a sequence of key-value pairs into a dictionary of lists\n",
    "    group = df.groupby(['Region Code', 'Region Name', 'Country Code', 'Country Name', 'Year', 'Sex'])\n",
    "    info: List[Tuple] = list(group.groups.keys())  # List[Tuple]: value is a list of tuple[()].looking for the keys in a\n",
    "    # dict. The 'groups' attribute of the 'groupby' object is always dic type\n",
    "\n",
    "    for i, it in enumerate(info):  # i = index ( starting from 0) , it = item (Entity, Year, Sex). enumerate can pair\n",
    "        # index and item\n",
    "        dy['Region Code'].append(it[0])\n",
    "        dy['Region Name'].append(it[1])\n",
    "        dy['Country Code'].append(it[2])\n",
    "        dy['Country Name'].append(it[3])\n",
    "        dy['Year'].append(it[4])  # Year in [4]\n",
    "        dy['Sex'].append(it[5])  # Sex in [5]\n",
    "\n",
    "    numbers = group['Number']\n",
    "    total_number_of_death = group['Total Number of Deaths']\n",
    "    # noinspection PyTypeChecker todo: wt is it?\n",
    "    dy['Number'] = np.array(numbers.sum())\n",
    "    dy['Total Number of Deaths'] = np.array(total_number_of_death.sum())\n",
    "    dy['Total Percentage of Cause-Specific Deaths Out Of Total Deaths'] = np.array(\n",
    "        numbers.sum() / total_number_of_death.sum() * 100)\n",
    "\n",
    "    _df = pd.DataFrame.from_dict(dy)  # creates a new_df from the dy dictionary.\n",
    "\n",
    "    # change layout\n",
    "    sex_values = ['All', 'Female', 'Male']\n",
    "    new_df = _df.assign(\n",
    "        All_Number_of_Cause_Specific_Deaths=_df.query(\"Sex == 'All'\")['Number'],\n",
    "        Female_Number_of_Cause_Specific_Deaths=_df.query(\"Sex == 'Female'\")['Number'],\n",
    "        Male_Number_of_Cause_Specific_Deaths=_df.query(\"Sex == 'Male'\")['Number'],\n",
    "        All_Total_Number_of_Deaths=_df.query(\"Sex == 'All'\")['Total Number of Deaths'],\n",
    "        Female_Total_Number_of_Deaths=_df.query(\"Sex == 'Female'\")[\n",
    "            'Total Number of Deaths'],\n",
    "        Male_Total_Number_of_Deaths=_df.query(\"Sex == 'Male'\")['Total Number of Deaths'],\n",
    "        All_Total_Percentage_of_Cause_Specific_Deaths_Out_Of_Total_Deaths=_df.query(\"Sex == 'All'\")[\n",
    "            'Total Percentage of Cause-Specific Deaths Out Of Total Deaths'],\n",
    "        Female_Total_Percentage_of_Cause_Specific_Deaths_Out_Of_Total_Deaths=_df.query(\"Sex == 'Female'\")[\n",
    "            'Total Percentage of Cause-Specific Deaths Out Of Total Deaths'],\n",
    "        Male_Total_Percentage_of_Cause_Specific_Deaths_Out_Of_Total_Deaths=_df.query(\"Sex == 'Male'\")[\n",
    "            'Total Percentage of Cause-Specific Deaths Out Of Total Deaths'])\n",
    "    new_df.reset_index(drop=True, inplace=True)\n",
    "\n",
    "    new_df = new_df.drop(['Sex', 'Number', 'Total Number of Deaths',\n",
    "                          'Total Percentage of Cause-Specific Deaths Out Of Total Deaths'],\n",
    "                         axis=1)  # axis = 1: specifies to drop columns\n",
    "\n",
    "    new_df = new_df.groupby(['Region Code', 'Region Name', 'Country Code', 'Country Name',\n",
    "                             'Year']).first().reset_index()  # The first method is then applied to\n",
    "    # the grouped dataframe, which returns the first row of each group\n",
    "    if save_path:\n",
    "        new_df.to_excel(save_path)\n",
    "    return new_df\n"
   ]
  },
  {
   "cell_type": "code",
   "execution_count": 10,
   "id": "5143768e",
   "metadata": {},
   "outputs": [
    {
     "name": "stdout",
     "output_type": "stream",
     "text": [
      "110 (1860, 14) ['Region Code', 'Region Name', 'Country Code', 'Country Name', 'Year', 'All_Number_of_Cause_Specific_Deaths', 'Female_Number_of_Cause_Specific_Deaths', 'Male_Number_of_Cause_Specific_Deaths', 'All_Total_Number_of_Deaths', 'Female_Total_Number_of_Deaths', 'Male_Total_Number_of_Deaths', 'All_Total_Percentage_of_Cause_Specific_Deaths_Out_Of_Total_Deaths', 'Female_Total_Percentage_of_Cause_Specific_Deaths_Out_Of_Total_Deaths', 'Male_Total_Percentage_of_Cause_Specific_Deaths_Out_Of_Total_Deaths']\n"
     ]
    }
   ],
   "source": [
    "who_cvd_df_preprocess = pd.read_excel('/Users/wei/UCD-MPH/MPH Lecture/MPH Dissertation/Data (WHO CVD and Tobacco Use)/WHO_Cardiovascular_Disease_Mortality_Database_preprocess.xlsx')\n",
    "who_cvd_df_preprocess= preprocess_cvd(who_cvd_df_preprocess)\n",
    "save_path = ('/Users/wei/UCD-MPH/MPH Lecture/MPH Dissertation/Data (WHO CVD and Tobacco Use)/new_WHO_Cardiovascular_Disease_Mortality_Database.xlsx')\n",
    "new_df = create_age_grouping(who_cvd_df_preprocess,save_path=save_path)\n",
    "print(len(new_df['Country Name'].unique()),new_df.shape,new_df.columns.tolist())"
   ]
  },
  {
   "cell_type": "code",
   "execution_count": 11,
   "id": "25d1e068",
   "metadata": {},
   "outputs": [],
   "source": [
    "\n",
    "def tobacco_layout_modified(df: pd.DataFrame,\n",
    "                            column_drop: Optional[Path] = None,\n",
    "                            save_path: Optional[Path] = None) -> pd.DataFrame:\n",
    "    if column_drop is not None:\n",
    "        df = df.drop(columns=column_drop)\n",
    "    dy: dict = collections.defaultdict(list)\n",
    "    group = df.groupby(['Country Name', 'Year', 'Indicator', 'Sex'])\n",
    "    info: List[Tuple] = list(group.groups.keys())\n",
    "\n",
    "    for i, it in enumerate(info):\n",
    "        dy['Country Name'].append(it[0])\n",
    "        dy['Year'].append(it[1])\n",
    "        dy['Indicator'].append(it[2])\n",
    "        dy['Sex'].append(it[3])\n",
    "        dy['Prevalence'].append(group.get_group(it).Prevalence.mean())\n",
    "\n",
    "    _df = pd.DataFrame.from_dict(dy)\n",
    "    sex_values = ['Both sexes', 'Male', 'Female']\n",
    "    indicator_values = ['Estimate of current tobacco use prevalence (%) (age-standardized rate)',\n",
    "                        'Estimate of current tobacco smoking prevalence (%) (age-standardized rate)',\n",
    "                        'Estimate of current cigarette smoking prevalence (%) (age-standardized rate)']\n",
    "\n",
    "    changed_df = _df.assign(\n",
    "        All_Estimate_of_Current_Tobacco_Use_Prevalence_age_standardized_rate=_df.query(\n",
    "            \"Sex == 'Both sexes'& Indicator =='Estimate of current tobacco use prevalence (%) (age-standardized rate)'\")[\n",
    "            'Prevalence'],\n",
    "        Male_Estimate_of_Current_Tobacco_Use_Prevalence_age_standardized_rate=_df.query(\n",
    "            \"Sex == 'Male'& Indicator =='Estimate of current tobacco use prevalence (%) (age-standardized rate)'\")[\n",
    "            'Prevalence'],\n",
    "        Female_Estimate_of_Current_Tobacco_Use_Prevalence_age_standardized_rate=_df.query(\n",
    "            \"Sex == 'Female'& Indicator =='Estimate of current tobacco use prevalence (%) (age-standardized rate)'\")[\n",
    "            'Prevalence'],\n",
    "\n",
    "        All_Estimate_of_Current_Tobacco_Smoking_Prevalence_age_standardized_rate=_df.query(\n",
    "            \"Sex == 'Both sexes'& Indicator =='Estimate of current tobacco smoking prevalence (%) (age-standardized \"\n",
    "            \"rate)'\")['Prevalence'],\n",
    "        Male_Estimate_of_Current_Tobacco_Smoking_Prevalence_age_standardized_rate=_df.query(\n",
    "            \"Sex == 'Male'& Indicator =='Estimate of current tobacco smoking prevalence (%) (age-standardized rate)'\")[\n",
    "            'Prevalence'],\n",
    "        Female_Estimate_of_Current_Tobacco_Smoking_Prevalence_age_standardized_rate=_df.query(\n",
    "            \"Sex == 'Female'& Indicator =='Estimate of current tobacco smoking prevalence (%) (age-standardized rate)'\")[\n",
    "            'Prevalence'],\n",
    "        All_Estimate_of_current_cigarette_smoking_prevalence_age_standardized_rate=_df.query(\n",
    "            \"Sex == 'Both sexes'& Indicator =='Estimate of current cigarette smoking prevalence (%) (age-standardized rate)'\")[\n",
    "            'Prevalence'],\n",
    "        Male_Estimate_of_current_cigarette_smoking_prevalence_age_standardized_rate=_df.query(\n",
    "            \"Sex == 'Male'& Indicator =='Estimate of current cigarette smoking prevalence (%) (age-standardized rate)'\")[\n",
    "            'Prevalence'],\n",
    "        Female_Estimate_of_current_cigarette_smoking_prevalence_age_standardized_rate=_df.query(\n",
    "            \"Sex == 'Female'& Indicator =='Estimate of current cigarette smoking prevalence (%) (age-standardized rate)'\")[\n",
    "            'Prevalence'])\n",
    "\n",
    "    changed_df.reset_index(drop=True, inplace=True)\n",
    "\n",
    "    changed_df = changed_df.drop(['Sex', 'Prevalence', 'Indicator'], axis=1)\n",
    "    changed_df = changed_df.groupby(['Country Name', 'Year']).first().reset_index()\n",
    "    print(changed_df)\n",
    "    if save_path is not None:\n",
    "        changed_df.to_excel(save_path)\n",
    "    return changed_df"
   ]
  },
  {
   "cell_type": "code",
   "execution_count": 12,
   "id": "94e34314",
   "metadata": {},
   "outputs": [
    {
     "name": "stdout",
     "output_type": "stream",
     "text": [
      "165 (9351, 5) ['Location', 'Period', 'Indicator', 'Dim1', 'First Tooltip']\n",
      "165 (9351, 5) ['Country Name', 'Year', 'Indicator', 'Sex', 'Prevalence']\n",
      "2000\n",
      "2025\n"
     ]
    }
   ],
   "source": [
    "raw_tobacco_df = pd.read_csv(\n",
    "    '/Users/wei/UCD-MPH/MPH Lecture/MPH Dissertation/Data (WHO CVD and Tobacco Use)/raw data/Estimate of current tobacco smoking '\n",
    "    'prevalence(%)(age-standardized rate)_17 Jan 2022.csv')\n",
    "\n",
    "rename = {'Location': 'Country Name', 'Period': 'Year', 'Dim1': 'Sex', 'First Tooltip': 'Prevalence'}\n",
    "\n",
    "save_path = '/Users/wei/UCD-MPH/MPH Lecture/MPH Dissertation/Data (WHO CVD and Tobacco Use)/Prevalence of Tobacco use_modified.xlsx'\n",
    "tobacco_df = select_df(raw_tobacco_df, rename_mapping=rename, save_path=save_path)\n",
    "print(len(raw_tobacco_df['Location'].unique()),raw_tobacco_df.shape,raw_tobacco_df.columns.tolist())\n",
    "print(len(tobacco_df['Country Name'].unique()),tobacco_df.shape,tobacco_df.columns.tolist())\n",
    "print(min(raw_tobacco_df['Period']))\n",
    "print(max(raw_tobacco_df['Period']))"
   ]
  },
  {
   "cell_type": "code",
   "execution_count": 104,
   "id": "cdf6e575",
   "metadata": {},
   "outputs": [
    {
     "name": "stdout",
     "output_type": "stream",
     "text": [
      "Location         0\n",
      "Period           0\n",
      "Indicator        0\n",
      "Dim1             0\n",
      "First Tooltip    0\n",
      "dtype: int64\n",
      "0\n"
     ]
    }
   ],
   "source": [
    "print(raw_tobacco_df.isna().sum(axis=0))\n",
    "\n",
    "print(raw_tobacco_df.isna().sum().sum())"
   ]
  },
  {
   "cell_type": "code",
   "execution_count": 109,
   "id": "8a84be27",
   "metadata": {},
   "outputs": [
    {
     "name": "stdout",
     "output_type": "stream",
     "text": [
      "     Country Name  Year  \\\n",
      "0     Afghanistan  2000   \n",
      "1     Afghanistan  2005   \n",
      "2     Afghanistan  2010   \n",
      "3     Afghanistan  2015   \n",
      "4     Afghanistan  2018   \n",
      "...           ...   ...   \n",
      "1472     Zimbabwe  2018   \n",
      "1473     Zimbabwe  2019   \n",
      "1474     Zimbabwe  2020   \n",
      "1475     Zimbabwe  2023   \n",
      "1476     Zimbabwe  2025   \n",
      "\n",
      "      All_Estimate_of_Current_Tobacco_Use_Prevalence_age_standardized_rate  \\\n",
      "0                                                  36.9                      \n",
      "1                                                  32.7                      \n",
      "2                                                  29.1                      \n",
      "3                                                  26.0                      \n",
      "4                                                  23.8                      \n",
      "...                                                 ...                      \n",
      "1472                                               12.1                      \n",
      "1473                                               12.1                      \n",
      "1474                                               11.7                      \n",
      "1475                                                9.9                      \n",
      "1476                                               10.2                      \n",
      "\n",
      "      Male_Estimate_of_Current_Tobacco_Use_Prevalence_age_standardized_rate  \\\n",
      "0                                                  55.3                       \n",
      "1                                                  50.8                       \n",
      "2                                                  46.8                       \n",
      "3                                                  42.9                       \n",
      "4                                                  40.8                       \n",
      "...                                                 ...                       \n",
      "1472                                               23.0                       \n",
      "1473                                               22.5                       \n",
      "1474                                               21.8                       \n",
      "1475                                               20.2                       \n",
      "1476                                               19.2                       \n",
      "\n",
      "      Female_Estimate_of_Current_Tobacco_Use_Prevalence_age_standardized_rate  \\\n",
      "0                                                  18.4                         \n",
      "1                                                  14.5                         \n",
      "2                                                  11.4                         \n",
      "3                                                   9.1                         \n",
      "4                                                   7.9                         \n",
      "...                                                 ...                         \n",
      "1472                                                1.7                         \n",
      "1473                                                1.6                         \n",
      "1474                                                1.5                         \n",
      "1475                                                1.3                         \n",
      "1476                                                1.1                         \n",
      "\n",
      "      All_Estimate_of_Current_Tobacco_Smoking_Prevalence_age_standardized_rate  \\\n",
      "0                                                  21.1                          \n",
      "1                                                  17.1                          \n",
      "2                                                  14.0                          \n",
      "3                                                  11.5                          \n",
      "4                                                  10.2                          \n",
      "...                                                 ...                          \n",
      "1472                                               11.4                          \n",
      "1473                                               11.1                          \n",
      "1474                                               10.8                          \n",
      "1475                                                9.9                          \n",
      "1476                                                9.2                          \n",
      "\n",
      "      Male_Estimate_of_Current_Tobacco_Smoking_Prevalence_age_standardized_rate  \\\n",
      "0                                                  32.6                           \n",
      "1                                                  27.5                           \n",
      "2                                                  23.4                           \n",
      "3                                                  19.7                           \n",
      "4                                                  17.8                           \n",
      "...                                                 ...                           \n",
      "1472                                               21.7                           \n",
      "1473                                               21.2                           \n",
      "1474                                               20.6                           \n",
      "1475                                               19.0                           \n",
      "1476                                               17.8                           \n",
      "\n",
      "      Female_Estimate_of_Current_Tobacco_Smoking_Prevalence_age_standardized_rate  \\\n",
      "0                                                   9.6                             \n",
      "1                                                   6.7                             \n",
      "2                                                   4.6                             \n",
      "3                                                   3.2                             \n",
      "4                                                   2.6                             \n",
      "...                                                 ...                             \n",
      "1472                                                1.0                             \n",
      "1473                                                0.9                             \n",
      "1474                                                0.9                             \n",
      "1475                                                0.7                             \n",
      "1476                                                0.6                             \n",
      "\n",
      "      All_Estimate_of_current_cigarette_smoking_prevalence_age_standardized_rate  \\\n",
      "0                                                   NaN                            \n",
      "1                                                   NaN                            \n",
      "2                                                   NaN                            \n",
      "3                                                   NaN                            \n",
      "4                                                   NaN                            \n",
      "...                                                 ...                            \n",
      "1472                                                NaN                            \n",
      "1473                                                NaN                            \n",
      "1474                                                9.1                            \n",
      "1475                                                NaN                            \n",
      "1476                                                NaN                            \n",
      "\n",
      "      Male_Estimate_of_current_cigarette_smoking_prevalence_age_standardized_rate  \\\n",
      "0                                                   NaN                             \n",
      "1                                                   NaN                             \n",
      "2                                                   NaN                             \n",
      "3                                                   NaN                             \n",
      "4                                                   NaN                             \n",
      "...                                                 ...                             \n",
      "1472                                                NaN                             \n",
      "1473                                                NaN                             \n",
      "1474                                               18.0                             \n",
      "1475                                                NaN                             \n",
      "1476                                                NaN                             \n",
      "\n",
      "      Female_Estimate_of_current_cigarette_smoking_prevalence_age_standardized_rate  \n",
      "0                                                   NaN                              \n",
      "1                                                   NaN                              \n",
      "2                                                   NaN                              \n",
      "3                                                   NaN                              \n",
      "4                                                   NaN                              \n",
      "...                                                 ...                              \n",
      "1472                                                NaN                              \n",
      "1473                                                NaN                              \n",
      "1474                                                0.2                              \n",
      "1475                                                NaN                              \n",
      "1476                                                NaN                              \n",
      "\n",
      "[1477 rows x 11 columns]\n"
     ]
    },
    {
     "name": "stdout",
     "output_type": "stream",
     "text": [
      "165 (1477, 11) ['Country Name', 'Year', 'All_Estimate_of_Current_Tobacco_Use_Prevalence_age_standardized_rate', 'Male_Estimate_of_Current_Tobacco_Use_Prevalence_age_standardized_rate', 'Female_Estimate_of_Current_Tobacco_Use_Prevalence_age_standardized_rate', 'All_Estimate_of_Current_Tobacco_Smoking_Prevalence_age_standardized_rate', 'Male_Estimate_of_Current_Tobacco_Smoking_Prevalence_age_standardized_rate', 'Female_Estimate_of_Current_Tobacco_Smoking_Prevalence_age_standardized_rate', 'All_Estimate_of_current_cigarette_smoking_prevalence_age_standardized_rate', 'Male_Estimate_of_current_cigarette_smoking_prevalence_age_standardized_rate', 'Female_Estimate_of_current_cigarette_smoking_prevalence_age_standardized_rate']\n"
     ]
    }
   ],
   "source": [
    "tobacco_df = pd.read_excel(\n",
    "    '/Users/wei/UCD-MPH/MPH Lecture/MPH Dissertation/Data (WHO CVD and Tobacco Use)/Prevalence of Tobacco use_modified.xlsx')\n",
    "\n",
    "save_path = '/Users/wei/UCD-MPH/MPH Lecture/MPH Dissertation/Data (WHO CVD and Tobacco Use)/Prevalence of Tobacco use_Changed_layout.xlsx'\n",
    "changed_df = tobacco_layout_modified(tobacco_df, save_path=save_path)\n",
    "\n",
    "print(len(changed_df['Country Name'].unique()),changed_df.shape,changed_df.columns.tolist())\n"
   ]
  },
  {
   "cell_type": "code",
   "execution_count": 119,
   "id": "d3c04236",
   "metadata": {},
   "outputs": [
    {
     "name": "stdout",
     "output_type": "stream",
     "text": [
      "185 (2881, 17) ['Region Code', 'Region Name', 'Country Code', 'Country Name', 'Year', 'All_Number_of_Cause_Specific_Deaths', 'Female_Number_of_Cause_Specific_Deaths', 'Male_Number_of_Cause_Specific_Deaths', 'All_Total_Number_of_Deaths', 'Female_Total_Number_of_Deaths', 'Male_Total_Number_of_Deaths', 'All_Total_Percentage_of_Cause_Specific_Deaths_Out_Of_Total_Deaths', 'Female_Total_Percentage_of_Cause_Specific_Deaths_Out_Of_Total_Deaths', 'Male_Total_Percentage_of_Cause_Specific_Deaths_Out_Of_Total_Deaths', 'All_Estimate_of_Current_Tobacco_Use_Prevalence_age_standardized_rate', 'Male_Estimate_of_Current_Tobacco_Use_Prevalence_age_standardized_rate', 'Female_Estimate_of_Current_Tobacco_Use_Prevalence_age_standardized_rate']\n"
     ]
    }
   ],
   "source": [
    "# merge df1 & df2 test\n",
    "df1 = new_df\n",
    "df2 = changed_df\n",
    "\n",
    "cvd_tobacco = pd.merge(df1, df2, on=['Country Name', 'Year'], how='outer')\n",
    "cvd_tobacco.fillna(value='NaN',inplace=True)  # inplace = True means that 'value = 'NaN'' will inplace original value in df. 'Nan' can changed what you want to instead of.\n",
    "\n",
    "# drop no need indicators in Tobacco dataset\n",
    "columns_to_drop = [\n",
    "    'Female_Estimate_of_current_cigarette_smoking_prevalence_age_standardized_rate',\n",
    "    'Male_Estimate_of_current_cigarette_smoking_prevalence_age_standardized_rate',\n",
    "    'All_Estimate_of_current_cigarette_smoking_prevalence_age_standardized_rate',\n",
    "    'Female_Estimate_of_Current_Tobacco_Smoking_Prevalence_age_standardized_rate',\n",
    "    'Male_Estimate_of_Current_Tobacco_Smoking_Prevalence_age_standardized_rate',\n",
    "    'All_Estimate_of_Current_Tobacco_Smoking_Prevalence_age_standardized_rate'\n",
    "]\n",
    "cvd_tobacco = cvd_tobacco.drop(columns=columns_to_drop)\n",
    "\n",
    "cvd_tobacco.to_excel(\n",
    "    '/Users/wei/UCD-MPH/MPH Lecture/MPH Dissertation/Data (WHO CVD and Tobacco Use)/merge_cvd_tobacco.xlsx')\n",
    "print(len(cvd_tobacco['Country Name'].unique()),cvd_tobacco.shape, cvd_tobacco.columns.tolist())\n"
   ]
  },
  {
   "cell_type": "code",
   "execution_count": 120,
   "id": "f76bce4d",
   "metadata": {},
   "outputs": [],
   "source": [
    "\n",
    "# drop NaN\n",
    "cvd_tobacco.replace('NaN', np.nan, inplace=True)\n",
    "cvd_tobacco = cvd_tobacco.dropna(axis=0)\n",
    "\n",
    "cvd_tobacco.to_excel(\n",
    "    '/Users/wei/UCD-MPH/MPH Lecture/MPH Dissertation/Data (WHO CVD and Tobacco Use)/cvd_tobacco_nomissingdata.xlsx')"
   ]
  },
  {
   "cell_type": "code",
   "execution_count": 113,
   "id": "3e5ff111",
   "metadata": {},
   "outputs": [],
   "source": [
    "def format_date(df: pd.DataFrame,\n",
    "                rename_mapping: Dict[str, str] = None,\n",
    "                formatted_date: Optional[List[str]] = None,\n",
    "                save_path: Optional[Path] = None) -> pd.DataFrame:\n",
    "    if rename_mapping is not None:\n",
    "        df = df.rename(columns=rename_mapping)\n",
    "    if formatted_date is not None:\n",
    "        for col in formatted_date:\n",
    "            df[col] = pd.to_datetime(df[col], infer_datetime_format=True)\n",
    "            df[col] = df[col].dt.strftime(\"%d %b %Y\")\n",
    "    df.fillna(value='Nan', inplace=True)\n",
    "    if save_path is not None:\n",
    "        df.to_excel(save_path)\n",
    "    return df"
   ]
  },
  {
   "cell_type": "code",
   "execution_count": 91,
   "id": "785df758",
   "metadata": {},
   "outputs": [],
   "source": [
    "if __name__ == '__main__':\n",
    "    df = pd.read_excel(\n",
    "        '/Users/wei/UCD-MPH/MPH Lecture/MPH Dissertation/Data (WHO CVD and Tobacco Use)/raw data/Signatures and Ratifications- UN '\n",
    "        'Treaty Section_08 Feb_2023_Name chnaged.xlsx',\n",
    "        engine='openpyxl')\n",
    "    rename = {'Participant': 'Country Name',\n",
    "              \"Ratification, Acceptance(A), Approval(AA), Formal confirmation(c), Accession(a), Succession(d)\": 'Ratification'}\n",
    "    formatted_date = ['Signature', 'Ratification']\n",
    "    save_path = '/Users/wei/UCD-MPH/MPH Lecture/MPH Dissertation/Data (WHO CVD and Tobacco Use)/WHOFCTC_Parties_date_formatted.xlsx'\n",
    "    df=format_date(df, rename_mapping=rename, formatted_date=formatted_date, save_path=save_path)\n"
   ]
  },
  {
   "cell_type": "code",
   "execution_count": 84,
   "id": "cf3389ef",
   "metadata": {},
   "outputs": [
    {
     "name": "stdout",
     "output_type": "stream",
     "text": [
      "188 (188, 3) ['Country Name', 'Signature', 'Ratification']\n"
     ]
    }
   ],
   "source": [
    "print(len(df['Country Name'].unique()),df.shape,df.columns.tolist())"
   ]
  },
  {
   "cell_type": "code",
   "execution_count": 121,
   "id": "6bc3cbb0",
   "metadata": {},
   "outputs": [],
   "source": [
    "# merge\n",
    "df1 = pd.read_excel('/Users/wei/UCD-MPH/MPH Lecture/MPH Dissertation/Data (WHO CVD and Tobacco Use)/cvd_tobacco_nomissingdata.xlsx',\n",
    "                    engine='openpyxl')\n",
    "df2 = pd.read_excel('/Users/wei/UCD-MPH/MPH Lecture/MPH Dissertation/Data (WHO CVD and Tobacco Use)/WHOFCTC_Parties_date_formatted.xlsx',\n",
    "                    engine='openpyxl')\n",
    "\n",
    "signed_df = pd.merge(df1, df2, on=['Country Name'], how='outer')\n",
    "signed_df.fillna(value='NaN', inplace=True)\n",
    "signed_df.to_excel('/Users/wei/UCD-MPH/MPH Lecture/MPH Dissertation/Data (WHO CVD and Tobacco Use)/WHOFCTC_Parties_signed_date.xlsx')"
   ]
  },
  {
   "cell_type": "code",
   "execution_count": 122,
   "id": "96a20315",
   "metadata": {},
   "outputs": [
    {
     "name": "stdout",
     "output_type": "stream",
     "text": [
      "1700\n",
      "75\n"
     ]
    }
   ],
   "source": [
    "print(signed_df.eq('NaN').sum().sum())\n",
    "print(signed_df.eq('Nan').sum().sum())"
   ]
  },
  {
   "cell_type": "code",
   "execution_count": 123,
   "id": "9a972875",
   "metadata": {},
   "outputs": [
    {
     "name": "stdout",
     "output_type": "stream",
     "text": [
      "188 (556, 21) ['Unnamed: 0_x', 'Region Code', 'Region Name', 'Country Code', 'Country Name', 'Year', 'All_Number_of_Cause_Specific_Deaths', 'Female_Number_of_Cause_Specific_Deaths', 'Male_Number_of_Cause_Specific_Deaths', 'All_Total_Number_of_Deaths', 'Female_Total_Number_of_Deaths', 'Male_Total_Number_of_Deaths', 'All_Total_Percentage_of_Cause_Specific_Deaths_Out_Of_Total_Deaths', 'Female_Total_Percentage_of_Cause_Specific_Deaths_Out_Of_Total_Deaths', 'Male_Total_Percentage_of_Cause_Specific_Deaths_Out_Of_Total_Deaths', 'All_Estimate_of_Current_Tobacco_Use_Prevalence_age_standardized_rate', 'Male_Estimate_of_Current_Tobacco_Use_Prevalence_age_standardized_rate', 'Female_Estimate_of_Current_Tobacco_Use_Prevalence_age_standardized_rate', 'Unnamed: 0_y', 'Signature', 'Ratification']\n"
     ]
    }
   ],
   "source": [
    "print(len(signed_df['Country Name'].unique()),signed_df.shape,signed_df.columns.tolist())"
   ]
  },
  {
   "cell_type": "code",
   "execution_count": 124,
   "id": "4999a751",
   "metadata": {},
   "outputs": [],
   "source": [
    "# drop_missing_data\n",
    "signed_df.replace('NaN', np.nan, inplace=True)\n",
    "signed_df = signed_df.dropna(axis=0)\n",
    "\n",
    "signed_df.to_excel(\"/Users/wei/UCD-MPH/MPH Lecture/MPH Dissertation/Data (WHO CVD and Tobacco Use)/WHOFCTC_Parties_date_no_missingdata.xlsx\")\n"
   ]
  },
  {
   "cell_type": "code",
   "execution_count": 125,
   "id": "3a8d78fc",
   "metadata": {},
   "outputs": [
    {
     "name": "stdout",
     "output_type": "stream",
     "text": [
      "['Egypt' 'Mauritius' 'South Africa' 'Armenia' 'Azerbaijan' 'Bahrain'\n",
      " 'Brunei Darussalam' 'Cyprus' 'Georgia' 'Iran (Islamic Republic of)'\n",
      " 'Iraq' 'Israel' 'Jordan' 'Japan' 'Kazakhstan' 'Kyrgyzstan'\n",
      " 'Republic of Korea' 'Kuwait' 'Lebanon' 'Sri Lanka' 'Maldives'\n",
      " 'Philippines' 'Singapore' 'Thailand' 'Turkmenistan' 'Uzbekistan'\n",
      " 'Argentina' 'Belize' 'Brazil' 'Chile' 'Colombia' 'Costa Rica' 'Ecuador'\n",
      " 'Guatemala' 'Guyana' 'Mexico' 'Panama' 'Peru' 'Paraguay' 'El Salvador'\n",
      " 'Uruguay' 'Albania' 'Austria' 'Belgium' 'Bulgaria'\n",
      " 'Bosnia and Herzegovina' 'Belarus' 'Switzerland' 'Czechia' 'Germany'\n",
      " 'Denmark' 'Spain' 'Estonia' 'Finland' 'France' 'Greece' 'Croatia'\n",
      " 'Hungary' 'Ireland' 'Iceland' 'Italy' 'Lithuania' 'Luxembourg' 'Latvia'\n",
      " 'Republic of Moldova' 'Malta' 'Montenegro' 'Netherlands' 'Norway'\n",
      " 'Poland' 'Portugal' 'Romania' 'Russian Federation' 'Serbia' 'Slovakia'\n",
      " 'Slovenia' 'Sweden' 'Ukraine' 'Bahamas' 'Barbados' 'Canada' 'Cuba'\n",
      " 'Dominican Republic' 'Jamaica' 'United States of America' 'Australia'\n",
      " 'Fiji' 'New Zealand'] 88 (456, 21) ['Unnamed: 0_x', 'Region Code', 'Region Name', 'Country Code', 'Country Name', 'Year', 'All_Number_of_Cause_Specific_Deaths', 'Female_Number_of_Cause_Specific_Deaths', 'Male_Number_of_Cause_Specific_Deaths', 'All_Total_Number_of_Deaths', 'Female_Total_Number_of_Deaths', 'Male_Total_Number_of_Deaths', 'All_Total_Percentage_of_Cause_Specific_Deaths_Out_Of_Total_Deaths', 'Female_Total_Percentage_of_Cause_Specific_Deaths_Out_Of_Total_Deaths', 'Male_Total_Percentage_of_Cause_Specific_Deaths_Out_Of_Total_Deaths', 'All_Estimate_of_Current_Tobacco_Use_Prevalence_age_standardized_rate', 'Male_Estimate_of_Current_Tobacco_Use_Prevalence_age_standardized_rate', 'Female_Estimate_of_Current_Tobacco_Use_Prevalence_age_standardized_rate', 'Unnamed: 0_y', 'Signature', 'Ratification']\n"
     ]
    }
   ],
   "source": [
    "print(signed_df['Country Name'].unique(), len(signed_df['Country Name'].unique()), signed_df.shape,signed_df.columns.tolist())\n"
   ]
  },
  {
   "cell_type": "code",
   "execution_count": 126,
   "id": "5f7f4b68",
   "metadata": {},
   "outputs": [],
   "source": [
    "\n",
    "counts_df = signed_df['Country Name'].value_counts().to_frame()\n",
    "\n",
    "counts_df.columns = ['count']\n",
    "counts_df.to_excel(\"/Users/wei/UCD-MPH/MPH Lecture/MPH Dissertation/Data (WHO CVD and Tobacco Use)/count_country.xlsx\")\n"
   ]
  },
  {
   "cell_type": "markdown",
   "id": "dc3c13a9",
   "metadata": {},
   "source": [
    "Estonia\n",
    "Costa Rica\n",
    "Mexico\n",
    "Czechia\n",
    "Netherlands\n",
    "Georgia\n",
    "Spain\n",
    "Singapore\n",
    "Latvia\n",
    "Germany\n",
    "Guatemala\n",
    "Kazakhstan\n",
    "Austria\n",
    "Serbia\n",
    "Lithuania\n",
    "Ecuador\n",
    "Iceland\n",
    "Slovenia\n",
    "Mauritius"
   ]
  },
  {
   "cell_type": "code",
   "execution_count": 127,
   "id": "9e2a52b8",
   "metadata": {},
   "outputs": [],
   "source": [
    "# 找出所有包含指定值的行\n",
    "result_df = signed_df[signed_df.isin(\n",
    "    ['Estonia', 'Costa Rica', 'Mexico', 'Czechia', 'Netherlands', 'Georgia', 'Spain', 'Singapore', 'Latvia', 'Germany',\n",
    "     'Guatemala', 'Kazakhstan', 'Austria', 'Serbia', 'Lithuania', 'Ecuador', 'Iceland', 'Slovenia', 'Mauritius',\n",
    "     ]).any(axis=1)].dropna(how='all')\n",
    "\n",
    "result_df.to_excel(\"/Users/wei/UCD-MPH/MPH Lecture/MPH Dissertation/Data (WHO CVD and Tobacco Use)/19_ratified_country.xlsx\")\n"
   ]
  },
  {
   "cell_type": "markdown",
   "id": "4f465acb",
   "metadata": {},
   "source": [
    "# Plot Charts"
   ]
  },
  {
   "cell_type": "code",
   "execution_count": 134,
   "id": "9cef6f94",
   "metadata": {},
   "outputs": [],
   "source": [
    "\n",
    "def plot_relationship(df: pd.DataFrame,\n",
    "                      select_country: Optional[List[str]] = None,\n",
    "                      variable_1: Optional[List[str]] = None,\n",
    "                      variable_2: Optional[List[str]] = None,\n",
    "                      x_label: str = None,\n",
    "                      y_label: str = None,\n",
    "                      save_path: Optional[Path] = None) -> pd.DataFrame:\n",
    "    df['Year'] = df['Year'].astype(str)\n",
    "    if select_country is not None:\n",
    "        for country in select_country:\n",
    "            df = df[df['Country Name'] == country]\n",
    "        #df = df[df['Entity'].isin(select_country)]\n",
    "            if variable_1 is not None:\n",
    "                plt.plot(df['Year'], df[variable_1[0]], label=variable_1[0])\n",
    "            if variable_2 is not None:\n",
    "                plt.plot(df['Year'], df[variable_2[0]], label=variable_2[0])\n",
    "            if x_label is not None:\n",
    "                plt.xlabel(x_label)\n",
    "            if y_label is not None:\n",
    "                plt.ylabel(y_label)\n",
    "            plt.legend()\n",
    "            plt.xticks(df['Year'], rotation=90)\n",
    "\n",
    "            plt.title(f'CVD Mortality and Prevalence of Tobacco Use in {select_country[0]}')\n",
    "            plt.show()\n",
    "\n",
    "    if save_path is not None:\n",
    "        df.to_excel(save_path)\n",
    "    return df\n",
    "\n"
   ]
  },
  {
   "cell_type": "code",
   "execution_count": 137,
   "id": "a5b31c49",
   "metadata": {},
   "outputs": [],
   "source": [
    "def plot_relationship(df: pd.DataFrame,\n",
    "                      select_country: Optional[List[str]] = None,\n",
    "                      variable_1: Optional[List[str]] = None,\n",
    "                      variable_2: Optional[List[str]] = None,\n",
    "                      x_label: str = None,\n",
    "                      y_label: str = None,\n",
    "                      save_path: Optional[Path] = None) -> pd.DataFrame:\n",
    "    df['Year'] = df['Year'].astype(str)\n",
    "    if select_country is not None:\n",
    "        for country in select_country:\n",
    "            country_df = df[df['Country Name'] == country]\n",
    "            if variable_1 is not None:\n",
    "                plt.plot(country_df['Year'], country_df[variable_1[0]], label=variable_1[0])\n",
    "            if variable_2 is not None:\n",
    "                plt.plot(country_df['Year'], country_df[variable_2[0]], label=variable_2[0])\n",
    "            if x_label is not None:\n",
    "                plt.xlabel(x_label)\n",
    "            if y_label is not None:\n",
    "                plt.ylabel(y_label)\n",
    "            plt.legend()\n",
    "            plt.xticks(country_df['Year'], rotation=90)\n",
    "\n",
    "            plt.title(f'CVD Mortality and Prevalence of Tobacco Use in {country}')\n",
    "            plt.show()\n",
    "\n",
    "    if save_path is not None:\n",
    "        df.to_excel(save_path)\n",
    "    return df\n"
   ]
  },
  {
   "cell_type": "code",
   "execution_count": 138,
   "id": "0c89282e",
   "metadata": {},
   "outputs": [
    {
     "ename": "KeyError",
     "evalue": "'Female_total_percentage_of_CVD'",
     "output_type": "error",
     "traceback": [
      "\u001b[0;31m---------------------------------------------------------------------------\u001b[0m",
      "\u001b[0;31mKeyError\u001b[0m                                  Traceback (most recent call last)",
      "\u001b[0;32m~/opt/anaconda3/lib/python3.8/site-packages/pandas/core/indexes/base.py\u001b[0m in \u001b[0;36mget_loc\u001b[0;34m(self, key, method, tolerance)\u001b[0m\n\u001b[1;32m   3079\u001b[0m             \u001b[0;32mtry\u001b[0m\u001b[0;34m:\u001b[0m\u001b[0;34m\u001b[0m\u001b[0;34m\u001b[0m\u001b[0m\n\u001b[0;32m-> 3080\u001b[0;31m                 \u001b[0;32mreturn\u001b[0m \u001b[0mself\u001b[0m\u001b[0;34m.\u001b[0m\u001b[0m_engine\u001b[0m\u001b[0;34m.\u001b[0m\u001b[0mget_loc\u001b[0m\u001b[0;34m(\u001b[0m\u001b[0mcasted_key\u001b[0m\u001b[0;34m)\u001b[0m\u001b[0;34m\u001b[0m\u001b[0;34m\u001b[0m\u001b[0m\n\u001b[0m\u001b[1;32m   3081\u001b[0m             \u001b[0;32mexcept\u001b[0m \u001b[0mKeyError\u001b[0m \u001b[0;32mas\u001b[0m \u001b[0merr\u001b[0m\u001b[0;34m:\u001b[0m\u001b[0;34m\u001b[0m\u001b[0;34m\u001b[0m\u001b[0m\n",
      "\u001b[0;32mpandas/_libs/index.pyx\u001b[0m in \u001b[0;36mpandas._libs.index.IndexEngine.get_loc\u001b[0;34m()\u001b[0m\n",
      "\u001b[0;32mpandas/_libs/index.pyx\u001b[0m in \u001b[0;36mpandas._libs.index.IndexEngine.get_loc\u001b[0;34m()\u001b[0m\n",
      "\u001b[0;32mpandas/_libs/hashtable_class_helper.pxi\u001b[0m in \u001b[0;36mpandas._libs.hashtable.PyObjectHashTable.get_item\u001b[0;34m()\u001b[0m\n",
      "\u001b[0;32mpandas/_libs/hashtable_class_helper.pxi\u001b[0m in \u001b[0;36mpandas._libs.hashtable.PyObjectHashTable.get_item\u001b[0;34m()\u001b[0m\n",
      "\u001b[0;31mKeyError\u001b[0m: 'Female_total_percentage_of_CVD'",
      "\nThe above exception was the direct cause of the following exception:\n",
      "\u001b[0;31mKeyError\u001b[0m                                  Traceback (most recent call last)",
      "\u001b[0;32m<ipython-input-138-e22d963e5d1e>\u001b[0m in \u001b[0;36m<module>\u001b[0;34m\u001b[0m\n\u001b[1;32m      8\u001b[0m     \u001b[0my_label\u001b[0m \u001b[0;34m=\u001b[0m \u001b[0;34m'Total Percentage of CVD Mortality & Prevalence of Tobacco Use'\u001b[0m\u001b[0;34m\u001b[0m\u001b[0;34m\u001b[0m\u001b[0m\n\u001b[1;32m      9\u001b[0m     \u001b[0;32mfor\u001b[0m \u001b[0mcountry\u001b[0m \u001b[0;32min\u001b[0m \u001b[0mselect_country\u001b[0m\u001b[0;34m:\u001b[0m\u001b[0;34m\u001b[0m\u001b[0;34m\u001b[0m\u001b[0m\n\u001b[0;32m---> 10\u001b[0;31m         df = plot_relationship(df, select_country=[country], variable_1=variable_1, variable_2=variable_2,\n\u001b[0m\u001b[1;32m     11\u001b[0m                            x_label=x_label, y_label=y_label)\n",
      "\u001b[0;32m<ipython-input-137-1e709ff461e8>\u001b[0m in \u001b[0;36mplot_relationship\u001b[0;34m(df, select_country, variable_1, variable_2, x_label, y_label, save_path)\u001b[0m\n\u001b[1;32m     11\u001b[0m             \u001b[0mcountry_df\u001b[0m \u001b[0;34m=\u001b[0m \u001b[0mdf\u001b[0m\u001b[0;34m[\u001b[0m\u001b[0mdf\u001b[0m\u001b[0;34m[\u001b[0m\u001b[0;34m'Country Name'\u001b[0m\u001b[0;34m]\u001b[0m \u001b[0;34m==\u001b[0m \u001b[0mcountry\u001b[0m\u001b[0;34m]\u001b[0m\u001b[0;34m\u001b[0m\u001b[0;34m\u001b[0m\u001b[0m\n\u001b[1;32m     12\u001b[0m             \u001b[0;32mif\u001b[0m \u001b[0mvariable_1\u001b[0m \u001b[0;32mis\u001b[0m \u001b[0;32mnot\u001b[0m \u001b[0;32mNone\u001b[0m\u001b[0;34m:\u001b[0m\u001b[0;34m\u001b[0m\u001b[0;34m\u001b[0m\u001b[0m\n\u001b[0;32m---> 13\u001b[0;31m                 \u001b[0mplt\u001b[0m\u001b[0;34m.\u001b[0m\u001b[0mplot\u001b[0m\u001b[0;34m(\u001b[0m\u001b[0mcountry_df\u001b[0m\u001b[0;34m[\u001b[0m\u001b[0;34m'Year'\u001b[0m\u001b[0;34m]\u001b[0m\u001b[0;34m,\u001b[0m \u001b[0mcountry_df\u001b[0m\u001b[0;34m[\u001b[0m\u001b[0mvariable_1\u001b[0m\u001b[0;34m[\u001b[0m\u001b[0;36m0\u001b[0m\u001b[0;34m]\u001b[0m\u001b[0;34m]\u001b[0m\u001b[0;34m,\u001b[0m \u001b[0mlabel\u001b[0m\u001b[0;34m=\u001b[0m\u001b[0mvariable_1\u001b[0m\u001b[0;34m[\u001b[0m\u001b[0;36m0\u001b[0m\u001b[0;34m]\u001b[0m\u001b[0;34m)\u001b[0m\u001b[0;34m\u001b[0m\u001b[0;34m\u001b[0m\u001b[0m\n\u001b[0m\u001b[1;32m     14\u001b[0m             \u001b[0;32mif\u001b[0m \u001b[0mvariable_2\u001b[0m \u001b[0;32mis\u001b[0m \u001b[0;32mnot\u001b[0m \u001b[0;32mNone\u001b[0m\u001b[0;34m:\u001b[0m\u001b[0;34m\u001b[0m\u001b[0;34m\u001b[0m\u001b[0m\n\u001b[1;32m     15\u001b[0m                 \u001b[0mplt\u001b[0m\u001b[0;34m.\u001b[0m\u001b[0mplot\u001b[0m\u001b[0;34m(\u001b[0m\u001b[0mcountry_df\u001b[0m\u001b[0;34m[\u001b[0m\u001b[0;34m'Year'\u001b[0m\u001b[0;34m]\u001b[0m\u001b[0;34m,\u001b[0m \u001b[0mcountry_df\u001b[0m\u001b[0;34m[\u001b[0m\u001b[0mvariable_2\u001b[0m\u001b[0;34m[\u001b[0m\u001b[0;36m0\u001b[0m\u001b[0;34m]\u001b[0m\u001b[0;34m]\u001b[0m\u001b[0;34m,\u001b[0m \u001b[0mlabel\u001b[0m\u001b[0;34m=\u001b[0m\u001b[0mvariable_2\u001b[0m\u001b[0;34m[\u001b[0m\u001b[0;36m0\u001b[0m\u001b[0;34m]\u001b[0m\u001b[0;34m)\u001b[0m\u001b[0;34m\u001b[0m\u001b[0;34m\u001b[0m\u001b[0m\n",
      "\u001b[0;32m~/opt/anaconda3/lib/python3.8/site-packages/pandas/core/frame.py\u001b[0m in \u001b[0;36m__getitem__\u001b[0;34m(self, key)\u001b[0m\n\u001b[1;32m   3022\u001b[0m             \u001b[0;32mif\u001b[0m \u001b[0mself\u001b[0m\u001b[0;34m.\u001b[0m\u001b[0mcolumns\u001b[0m\u001b[0;34m.\u001b[0m\u001b[0mnlevels\u001b[0m \u001b[0;34m>\u001b[0m \u001b[0;36m1\u001b[0m\u001b[0;34m:\u001b[0m\u001b[0;34m\u001b[0m\u001b[0;34m\u001b[0m\u001b[0m\n\u001b[1;32m   3023\u001b[0m                 \u001b[0;32mreturn\u001b[0m \u001b[0mself\u001b[0m\u001b[0;34m.\u001b[0m\u001b[0m_getitem_multilevel\u001b[0m\u001b[0;34m(\u001b[0m\u001b[0mkey\u001b[0m\u001b[0;34m)\u001b[0m\u001b[0;34m\u001b[0m\u001b[0;34m\u001b[0m\u001b[0m\n\u001b[0;32m-> 3024\u001b[0;31m             \u001b[0mindexer\u001b[0m \u001b[0;34m=\u001b[0m \u001b[0mself\u001b[0m\u001b[0;34m.\u001b[0m\u001b[0mcolumns\u001b[0m\u001b[0;34m.\u001b[0m\u001b[0mget_loc\u001b[0m\u001b[0;34m(\u001b[0m\u001b[0mkey\u001b[0m\u001b[0;34m)\u001b[0m\u001b[0;34m\u001b[0m\u001b[0;34m\u001b[0m\u001b[0m\n\u001b[0m\u001b[1;32m   3025\u001b[0m             \u001b[0;32mif\u001b[0m \u001b[0mis_integer\u001b[0m\u001b[0;34m(\u001b[0m\u001b[0mindexer\u001b[0m\u001b[0;34m)\u001b[0m\u001b[0;34m:\u001b[0m\u001b[0;34m\u001b[0m\u001b[0;34m\u001b[0m\u001b[0m\n\u001b[1;32m   3026\u001b[0m                 \u001b[0mindexer\u001b[0m \u001b[0;34m=\u001b[0m \u001b[0;34m[\u001b[0m\u001b[0mindexer\u001b[0m\u001b[0;34m]\u001b[0m\u001b[0;34m\u001b[0m\u001b[0;34m\u001b[0m\u001b[0m\n",
      "\u001b[0;32m~/opt/anaconda3/lib/python3.8/site-packages/pandas/core/indexes/base.py\u001b[0m in \u001b[0;36mget_loc\u001b[0;34m(self, key, method, tolerance)\u001b[0m\n\u001b[1;32m   3080\u001b[0m                 \u001b[0;32mreturn\u001b[0m \u001b[0mself\u001b[0m\u001b[0;34m.\u001b[0m\u001b[0m_engine\u001b[0m\u001b[0;34m.\u001b[0m\u001b[0mget_loc\u001b[0m\u001b[0;34m(\u001b[0m\u001b[0mcasted_key\u001b[0m\u001b[0;34m)\u001b[0m\u001b[0;34m\u001b[0m\u001b[0;34m\u001b[0m\u001b[0m\n\u001b[1;32m   3081\u001b[0m             \u001b[0;32mexcept\u001b[0m \u001b[0mKeyError\u001b[0m \u001b[0;32mas\u001b[0m \u001b[0merr\u001b[0m\u001b[0;34m:\u001b[0m\u001b[0;34m\u001b[0m\u001b[0;34m\u001b[0m\u001b[0m\n\u001b[0;32m-> 3082\u001b[0;31m                 \u001b[0;32mraise\u001b[0m \u001b[0mKeyError\u001b[0m\u001b[0;34m(\u001b[0m\u001b[0mkey\u001b[0m\u001b[0;34m)\u001b[0m \u001b[0;32mfrom\u001b[0m \u001b[0merr\u001b[0m\u001b[0;34m\u001b[0m\u001b[0;34m\u001b[0m\u001b[0m\n\u001b[0m\u001b[1;32m   3083\u001b[0m \u001b[0;34m\u001b[0m\u001b[0m\n\u001b[1;32m   3084\u001b[0m         \u001b[0;32mif\u001b[0m \u001b[0mtolerance\u001b[0m \u001b[0;32mis\u001b[0m \u001b[0;32mnot\u001b[0m \u001b[0;32mNone\u001b[0m\u001b[0;34m:\u001b[0m\u001b[0;34m\u001b[0m\u001b[0;34m\u001b[0m\u001b[0m\n",
      "\u001b[0;31mKeyError\u001b[0m: 'Female_total_percentage_of_CVD'"
     ]
    }
   ],
   "source": [
    "if __name__ == '__main__':\n",
    "    df= pd.read_excel(\n",
    "        \"/Users/wei/UCD-MPH/MPH Lecture/MPH Dissertation/Data (WHO CVD and Tobacco Use)/19_ratified_country.xlsx\")\n",
    "    select_country =df['Country Name'].unique()\n",
    "    variable_1 = ['Female_total_percentage_of_CVD']\n",
    "    variable_2 = ['Prevalence of current tobacco use, females (% of female adults)']\n",
    "    x_label = 'Year'\n",
    "    y_label = 'Total Percentage of CVD Mortality & Prevalence of Tobacco Use'\n",
    "    for country in select_country:\n",
    "        df = plot_relationship(df, select_country=[country], variable_1=variable_1, variable_2=variable_2,\n",
    "                           x_label=x_label, y_label=y_label)\n"
   ]
  },
  {
   "cell_type": "code",
   "execution_count": 5,
   "id": "6d90c8ed",
   "metadata": {},
   "outputs": [],
   "source": [
    "import pandas as pd\n",
    "import matplotlib.pyplot as plt\n",
    "from typing import Optional, List, Union\n",
    "from pathlib import Path\n",
    "import os\n",
    "\n",
    "\n",
    "def plot_relationship(df: pd.DataFrame,\n",
    "                      select_country: Optional[List[str]] = None,\n",
    "                      variable_1: Optional[List[str]] = None,\n",
    "                      variable_2: Optional[List[str]] = None,\n",
    "                      x_label: Optional[str] = None,\n",
    "                      y_label: Optional[str] = None,\n",
    "                      save_path: Optional[Path] = None) -> None:\n",
    "    # convert 'Year' column to string type\n",
    "    df['Year'] = df['Year'].astype(str)\n",
    "    # filter by selected countries\n",
    "    if select_country is not None:\n",
    "        for country in select_country:\n",
    "            country_df = df[df['Country Name'] == country]\n",
    "            # check if both variables exist in the DataFrame\n",
    "            if variable_1 is not None and variable_1[0] in country_df.columns and \\\n",
    "                    variable_2 is not None and variable_2[0] in country_df.columns:\n",
    "                # plot the two variables on the same figure\n",
    "                fig, ax1 = plt.subplots()\n",
    "                ax1.plot(country_df['Year'], country_df[variable_1[0]], label=variable_1[0], color='b')\n",
    "                ax1.set_xlabel(x_label or 'Year')\n",
    "                ax1.set_ylabel(variable_1[0], color='b')\n",
    "                ax1.tick_params(axis='y', labelcolor='b')\n",
    "\n",
    "                ax2 = ax1.twinx()\n",
    "                ax2.plot(country_df['Year'], country_df[variable_2[0]], label=variable_2[0], color='r')\n",
    "                ax2.set_ylabel(variable_2[0], color='r')\n",
    "                ax2.tick_params(axis='y', labelcolor='r')\n",
    "\n",
    "                plt.title(f'CVD Mortality and Prevalence of Tobacco Use in {country}')\n",
    "                plt.xticks(country_df['Year'], rotation=90)\n",
    "                plt.title(f'CVD Mortality and Prevalence of Tobacco Use in {country}')\n",
    "        plt_country = plt.show()\n",
    "# save the figure if save_path is provided\n",
    "        if save_path is not None:\n",
    "            fig.savefig(save_path, dpi=300, bbox_inches='tight')\n",
    "            if save_path is not None:\n",
    "                if not os.path.exists(os.path.dirname(save_path)):\n",
    "                    os.makedirs(os.path.dirname(save_path))\n",
    "                    fig.savefig(save_path)\n",
    "        return df\n"
   ]
  },
  {
   "cell_type": "code",
   "execution_count": 132,
   "id": "b1d17765",
   "metadata": {},
   "outputs": [
    {
     "ename": "FileNotFoundError",
     "evalue": "[Errno 2] No such file or directory: '/Users/wei/UCD-MPH/MPH-Lecture:Modules/MPH Dissertation/Data/19_ratified_country.xlsx'",
     "output_type": "error",
     "traceback": [
      "\u001b[0;31m---------------------------------------------------------------------------\u001b[0m",
      "\u001b[0;31mFileNotFoundError\u001b[0m                         Traceback (most recent call last)",
      "\u001b[0;32m<ipython-input-132-2439b06b0609>\u001b[0m in \u001b[0;36m<module>\u001b[0;34m\u001b[0m\n\u001b[1;32m      1\u001b[0m \u001b[0;32mif\u001b[0m \u001b[0m__name__\u001b[0m \u001b[0;34m==\u001b[0m \u001b[0;34m'__main__'\u001b[0m\u001b[0;34m:\u001b[0m\u001b[0;34m\u001b[0m\u001b[0;34m\u001b[0m\u001b[0m\n\u001b[0;32m----> 2\u001b[0;31m     df = pd.read_excel(\n\u001b[0m\u001b[1;32m      3\u001b[0m                         \"/Users/wei/UCD-MPH/MPH-Lecture:Modules/MPH Dissertation/Data/19_ratified_country.xlsx\")\n\u001b[1;32m      4\u001b[0m     \u001b[0mselect_country\u001b[0m \u001b[0;34m=\u001b[0m \u001b[0mdf\u001b[0m\u001b[0;34m[\u001b[0m\u001b[0;34m'Country Name'\u001b[0m\u001b[0;34m]\u001b[0m\u001b[0;34m.\u001b[0m\u001b[0munique\u001b[0m\u001b[0;34m(\u001b[0m\u001b[0;34m)\u001b[0m\u001b[0;34m\u001b[0m\u001b[0;34m\u001b[0m\u001b[0m\n\u001b[1;32m      5\u001b[0m     variable_1 = ['Female_Total_Percentage_of_Cause_Specific_Deaths_Out_Of_Total_Deaths',\n",
      "\u001b[0;32m~/opt/anaconda3/lib/python3.8/site-packages/pandas/util/_decorators.py\u001b[0m in \u001b[0;36mwrapper\u001b[0;34m(*args, **kwargs)\u001b[0m\n\u001b[1;32m    297\u001b[0m                 )\n\u001b[1;32m    298\u001b[0m                 \u001b[0mwarnings\u001b[0m\u001b[0;34m.\u001b[0m\u001b[0mwarn\u001b[0m\u001b[0;34m(\u001b[0m\u001b[0mmsg\u001b[0m\u001b[0;34m,\u001b[0m \u001b[0mFutureWarning\u001b[0m\u001b[0;34m,\u001b[0m \u001b[0mstacklevel\u001b[0m\u001b[0;34m=\u001b[0m\u001b[0mstacklevel\u001b[0m\u001b[0;34m)\u001b[0m\u001b[0;34m\u001b[0m\u001b[0;34m\u001b[0m\u001b[0m\n\u001b[0;32m--> 299\u001b[0;31m             \u001b[0;32mreturn\u001b[0m \u001b[0mfunc\u001b[0m\u001b[0;34m(\u001b[0m\u001b[0;34m*\u001b[0m\u001b[0margs\u001b[0m\u001b[0;34m,\u001b[0m \u001b[0;34m**\u001b[0m\u001b[0mkwargs\u001b[0m\u001b[0;34m)\u001b[0m\u001b[0;34m\u001b[0m\u001b[0;34m\u001b[0m\u001b[0m\n\u001b[0m\u001b[1;32m    300\u001b[0m \u001b[0;34m\u001b[0m\u001b[0m\n\u001b[1;32m    301\u001b[0m         \u001b[0;32mreturn\u001b[0m \u001b[0mwrapper\u001b[0m\u001b[0;34m\u001b[0m\u001b[0;34m\u001b[0m\u001b[0m\n",
      "\u001b[0;32m~/opt/anaconda3/lib/python3.8/site-packages/pandas/io/excel/_base.py\u001b[0m in \u001b[0;36mread_excel\u001b[0;34m(io, sheet_name, header, names, index_col, usecols, squeeze, dtype, engine, converters, true_values, false_values, skiprows, nrows, na_values, keep_default_na, na_filter, verbose, parse_dates, date_parser, thousands, comment, skipfooter, convert_float, mangle_dupe_cols, storage_options)\u001b[0m\n\u001b[1;32m    334\u001b[0m     \u001b[0;32mif\u001b[0m \u001b[0;32mnot\u001b[0m \u001b[0misinstance\u001b[0m\u001b[0;34m(\u001b[0m\u001b[0mio\u001b[0m\u001b[0;34m,\u001b[0m \u001b[0mExcelFile\u001b[0m\u001b[0;34m)\u001b[0m\u001b[0;34m:\u001b[0m\u001b[0;34m\u001b[0m\u001b[0;34m\u001b[0m\u001b[0m\n\u001b[1;32m    335\u001b[0m         \u001b[0mshould_close\u001b[0m \u001b[0;34m=\u001b[0m \u001b[0;32mTrue\u001b[0m\u001b[0;34m\u001b[0m\u001b[0;34m\u001b[0m\u001b[0m\n\u001b[0;32m--> 336\u001b[0;31m         \u001b[0mio\u001b[0m \u001b[0;34m=\u001b[0m \u001b[0mExcelFile\u001b[0m\u001b[0;34m(\u001b[0m\u001b[0mio\u001b[0m\u001b[0;34m,\u001b[0m \u001b[0mstorage_options\u001b[0m\u001b[0;34m=\u001b[0m\u001b[0mstorage_options\u001b[0m\u001b[0;34m,\u001b[0m \u001b[0mengine\u001b[0m\u001b[0;34m=\u001b[0m\u001b[0mengine\u001b[0m\u001b[0;34m)\u001b[0m\u001b[0;34m\u001b[0m\u001b[0;34m\u001b[0m\u001b[0m\n\u001b[0m\u001b[1;32m    337\u001b[0m     \u001b[0;32melif\u001b[0m \u001b[0mengine\u001b[0m \u001b[0;32mand\u001b[0m \u001b[0mengine\u001b[0m \u001b[0;34m!=\u001b[0m \u001b[0mio\u001b[0m\u001b[0;34m.\u001b[0m\u001b[0mengine\u001b[0m\u001b[0;34m:\u001b[0m\u001b[0;34m\u001b[0m\u001b[0;34m\u001b[0m\u001b[0m\n\u001b[1;32m    338\u001b[0m         raise ValueError(\n",
      "\u001b[0;32m~/opt/anaconda3/lib/python3.8/site-packages/pandas/io/excel/_base.py\u001b[0m in \u001b[0;36m__init__\u001b[0;34m(self, path_or_buffer, engine, storage_options)\u001b[0m\n\u001b[1;32m   1069\u001b[0m                 \u001b[0mext\u001b[0m \u001b[0;34m=\u001b[0m \u001b[0;34m\"xls\"\u001b[0m\u001b[0;34m\u001b[0m\u001b[0;34m\u001b[0m\u001b[0m\n\u001b[1;32m   1070\u001b[0m             \u001b[0;32melse\u001b[0m\u001b[0;34m:\u001b[0m\u001b[0;34m\u001b[0m\u001b[0;34m\u001b[0m\u001b[0m\n\u001b[0;32m-> 1071\u001b[0;31m                 ext = inspect_excel_format(\n\u001b[0m\u001b[1;32m   1072\u001b[0m                     \u001b[0mcontent\u001b[0m\u001b[0;34m=\u001b[0m\u001b[0mpath_or_buffer\u001b[0m\u001b[0;34m,\u001b[0m \u001b[0mstorage_options\u001b[0m\u001b[0;34m=\u001b[0m\u001b[0mstorage_options\u001b[0m\u001b[0;34m\u001b[0m\u001b[0;34m\u001b[0m\u001b[0m\n\u001b[1;32m   1073\u001b[0m                 )\n",
      "\u001b[0;32m~/opt/anaconda3/lib/python3.8/site-packages/pandas/io/excel/_base.py\u001b[0m in \u001b[0;36minspect_excel_format\u001b[0;34m(path, content, storage_options)\u001b[0m\n\u001b[1;32m    947\u001b[0m     \u001b[0;32massert\u001b[0m \u001b[0mcontent_or_path\u001b[0m \u001b[0;32mis\u001b[0m \u001b[0;32mnot\u001b[0m \u001b[0;32mNone\u001b[0m\u001b[0;34m\u001b[0m\u001b[0;34m\u001b[0m\u001b[0m\n\u001b[1;32m    948\u001b[0m \u001b[0;34m\u001b[0m\u001b[0m\n\u001b[0;32m--> 949\u001b[0;31m     with get_handle(\n\u001b[0m\u001b[1;32m    950\u001b[0m         \u001b[0mcontent_or_path\u001b[0m\u001b[0;34m,\u001b[0m \u001b[0;34m\"rb\"\u001b[0m\u001b[0;34m,\u001b[0m \u001b[0mstorage_options\u001b[0m\u001b[0;34m=\u001b[0m\u001b[0mstorage_options\u001b[0m\u001b[0;34m,\u001b[0m \u001b[0mis_text\u001b[0m\u001b[0;34m=\u001b[0m\u001b[0;32mFalse\u001b[0m\u001b[0;34m\u001b[0m\u001b[0;34m\u001b[0m\u001b[0m\n\u001b[1;32m    951\u001b[0m     ) as handle:\n",
      "\u001b[0;32m~/opt/anaconda3/lib/python3.8/site-packages/pandas/io/common.py\u001b[0m in \u001b[0;36mget_handle\u001b[0;34m(path_or_buf, mode, encoding, compression, memory_map, is_text, errors, storage_options)\u001b[0m\n\u001b[1;32m    649\u001b[0m         \u001b[0;32melse\u001b[0m\u001b[0;34m:\u001b[0m\u001b[0;34m\u001b[0m\u001b[0;34m\u001b[0m\u001b[0m\n\u001b[1;32m    650\u001b[0m             \u001b[0;31m# Binary mode\u001b[0m\u001b[0;34m\u001b[0m\u001b[0;34m\u001b[0m\u001b[0;34m\u001b[0m\u001b[0m\n\u001b[0;32m--> 651\u001b[0;31m             \u001b[0mhandle\u001b[0m \u001b[0;34m=\u001b[0m \u001b[0mopen\u001b[0m\u001b[0;34m(\u001b[0m\u001b[0mhandle\u001b[0m\u001b[0;34m,\u001b[0m \u001b[0mioargs\u001b[0m\u001b[0;34m.\u001b[0m\u001b[0mmode\u001b[0m\u001b[0;34m)\u001b[0m\u001b[0;34m\u001b[0m\u001b[0;34m\u001b[0m\u001b[0m\n\u001b[0m\u001b[1;32m    652\u001b[0m         \u001b[0mhandles\u001b[0m\u001b[0;34m.\u001b[0m\u001b[0mappend\u001b[0m\u001b[0;34m(\u001b[0m\u001b[0mhandle\u001b[0m\u001b[0;34m)\u001b[0m\u001b[0;34m\u001b[0m\u001b[0;34m\u001b[0m\u001b[0m\n\u001b[1;32m    653\u001b[0m \u001b[0;34m\u001b[0m\u001b[0m\n",
      "\u001b[0;31mFileNotFoundError\u001b[0m: [Errno 2] No such file or directory: '/Users/wei/UCD-MPH/MPH-Lecture:Modules/MPH Dissertation/Data/19_ratified_country.xlsx'"
     ]
    }
   ],
   "source": [
    "if __name__ == '__main__':\n",
    "    df = pd.read_excel(\n",
    "                        \"/Users/wei/UCD-MPH/MPH Lecture/MPH Dissertation/Data/19_ratified_country.xlsx\")\n",
    "    select_country = df['Country Name'].unique()\n",
    "    variable_1 = ['Female_Total_Percentage_of_Cause_Specific_Deaths_Out_Of_Total_Deaths',\n",
    "                                 'Male_Total_Percentage_of_Cause_Specific_Deaths_Out_Of_Total_Deaths',\n",
    "                                 'All_Total_Percentage_of_Cause_Specific_Deaths_Out_Of_Total_Deaths']\n",
    "    variable_2 = ['Female_Estimate_of_Current_Tobacco_Use_Prevalence_age_standardized_rate',\n",
    "                                 'Male_Estimate_of_Current_Tobacco_Use_Prevalence_age_standardized_rate',\n",
    "                                 'All_Estimate_of_Current_Tobacco_Use_Prevalence_age_standardized_rate']\n",
    "    x_label = 'Year'\n",
    "    y_label = 'Total Percentage of CVD Mortality & Prevalence of Tobacco Use'\n",
    "    save_path = '/Users/wei/Python/MPHDissertation/test_file/plot.png'\n",
    "    df = plot_relationship(df, select_country=select_country, variable_1=variable_1, variable_2=variable_2,\n",
    "                           x_label=x_label, y_label=y_label, save_path=save_path)\n",
    "    if save_path is not None and os.path.isfile(save_path):\n",
    "        print(f\"{save_path} exists.\")\n",
    "    else:\n",
    "        print(f\"{save_path} does not exist.\")"
   ]
  },
  {
   "cell_type": "code",
   "execution_count": 6,
   "id": "2aa6b47c",
   "metadata": {},
   "outputs": [
    {
     "ename": "UnboundLocalError",
     "evalue": "local variable 'fig' referenced before assignment",
     "output_type": "error",
     "traceback": [
      "\u001b[0;31m---------------------------------------------------------------------------\u001b[0m",
      "\u001b[0;31mUnboundLocalError\u001b[0m                         Traceback (most recent call last)",
      "\u001b[0;32m<ipython-input-6-da6c8a139671>\u001b[0m in \u001b[0;36m<module>\u001b[0;34m\u001b[0m\n\u001b[1;32m      8\u001b[0m     \u001b[0my_label\u001b[0m \u001b[0;34m=\u001b[0m \u001b[0;34m'CVD Mortality & Prevalence of Tobacco Use'\u001b[0m\u001b[0;34m\u001b[0m\u001b[0;34m\u001b[0m\u001b[0m\n\u001b[1;32m      9\u001b[0m     \u001b[0msave_path\u001b[0m \u001b[0;34m=\u001b[0m \u001b[0;34m'/Users/wei/Python/MPHDissertation/test_file/plot.png'\u001b[0m\u001b[0;34m\u001b[0m\u001b[0;34m\u001b[0m\u001b[0m\n\u001b[0;32m---> 10\u001b[0;31m     df = plot_relationship(df, select_country=select_country, variable_1=variable_1, variable_2=variable_2,\n\u001b[0m\u001b[1;32m     11\u001b[0m                            x_label=x_label, y_label=y_label, save_path=save_path)\n\u001b[1;32m     12\u001b[0m     \u001b[0;32mif\u001b[0m \u001b[0msave_path\u001b[0m \u001b[0;32mis\u001b[0m \u001b[0;32mnot\u001b[0m \u001b[0;32mNone\u001b[0m \u001b[0;32mand\u001b[0m \u001b[0mos\u001b[0m\u001b[0;34m.\u001b[0m\u001b[0mpath\u001b[0m\u001b[0;34m.\u001b[0m\u001b[0misfile\u001b[0m\u001b[0;34m(\u001b[0m\u001b[0msave_path\u001b[0m\u001b[0;34m)\u001b[0m\u001b[0;34m:\u001b[0m\u001b[0;34m\u001b[0m\u001b[0;34m\u001b[0m\u001b[0m\n",
      "\u001b[0;32m<ipython-input-5-f47f1e6013fa>\u001b[0m in \u001b[0;36mplot_relationship\u001b[0;34m(df, select_country, variable_1, variable_2, x_label, y_label, save_path)\u001b[0m\n\u001b[1;32m     40\u001b[0m \u001b[0;31m# save the figure if save_path is provided\u001b[0m\u001b[0;34m\u001b[0m\u001b[0;34m\u001b[0m\u001b[0;34m\u001b[0m\u001b[0m\n\u001b[1;32m     41\u001b[0m         \u001b[0;32mif\u001b[0m \u001b[0msave_path\u001b[0m \u001b[0;32mis\u001b[0m \u001b[0;32mnot\u001b[0m \u001b[0;32mNone\u001b[0m\u001b[0;34m:\u001b[0m\u001b[0;34m\u001b[0m\u001b[0;34m\u001b[0m\u001b[0m\n\u001b[0;32m---> 42\u001b[0;31m             \u001b[0mfig\u001b[0m\u001b[0;34m.\u001b[0m\u001b[0msavefig\u001b[0m\u001b[0;34m(\u001b[0m\u001b[0msave_path\u001b[0m\u001b[0;34m,\u001b[0m \u001b[0mdpi\u001b[0m\u001b[0;34m=\u001b[0m\u001b[0;36m300\u001b[0m\u001b[0;34m,\u001b[0m \u001b[0mbbox_inches\u001b[0m\u001b[0;34m=\u001b[0m\u001b[0;34m'tight'\u001b[0m\u001b[0;34m)\u001b[0m\u001b[0;34m\u001b[0m\u001b[0;34m\u001b[0m\u001b[0m\n\u001b[0m\u001b[1;32m     43\u001b[0m             \u001b[0;32mif\u001b[0m \u001b[0msave_path\u001b[0m \u001b[0;32mis\u001b[0m \u001b[0;32mnot\u001b[0m \u001b[0;32mNone\u001b[0m\u001b[0;34m:\u001b[0m\u001b[0;34m\u001b[0m\u001b[0;34m\u001b[0m\u001b[0m\n\u001b[1;32m     44\u001b[0m                 \u001b[0;32mif\u001b[0m \u001b[0;32mnot\u001b[0m \u001b[0mos\u001b[0m\u001b[0;34m.\u001b[0m\u001b[0mpath\u001b[0m\u001b[0;34m.\u001b[0m\u001b[0mexists\u001b[0m\u001b[0;34m(\u001b[0m\u001b[0mos\u001b[0m\u001b[0;34m.\u001b[0m\u001b[0mpath\u001b[0m\u001b[0;34m.\u001b[0m\u001b[0mdirname\u001b[0m\u001b[0;34m(\u001b[0m\u001b[0msave_path\u001b[0m\u001b[0;34m)\u001b[0m\u001b[0;34m)\u001b[0m\u001b[0;34m:\u001b[0m\u001b[0;34m\u001b[0m\u001b[0;34m\u001b[0m\u001b[0m\n",
      "\u001b[0;31mUnboundLocalError\u001b[0m: local variable 'fig' referenced before assignment"
     ]
    }
   ],
   "source": [
    "\n",
    "if __name__ == '__main__':\n",
    "    df = pd.read_excel(\n",
    "        \"/Users/wei/UCD-MPH/MPH-Lecture:Modules/MPH Dissertation/Data/19_ratified_country.xlsx\")\n",
    "    select_country = df['Country Name'].unique()\n",
    "    variable_1 = ['CVD Mortality in Male (%)']\n",
    "    variable_2 = ['Prevalence of Tobacco use in Male (age_standardized_rate) (%)']\n",
    "    x_label = 'Year'\n",
    "    y_label = 'CVD Mortality & Prevalence of Tobacco Use'\n",
    "    save_path = '/Users/wei/Python/MPHDissertation/test_file/plot.png'\n",
    "    df = plot_relationship(df, select_country=select_country, variable_1=variable_1, variable_2=variable_2,\n",
    "                           x_label=x_label, y_label=y_label, save_path=save_path)\n",
    "    if save_path is not None and os.path.isfile(save_path):\n",
    "        print(f\"{save_path} exists.\")\n",
    "    else:\n",
    "        print(f\"{save_path} does not exist.\")"
   ]
  },
  {
   "cell_type": "code",
   "execution_count": 132,
   "id": "38fdd506",
   "metadata": {},
   "outputs": [],
   "source": [
    "import matplotlib.pyplot as plt\n",
    "import pandas as pd\n",
    "\n",
    "def plot_relationship(df, select_country, variable, x_label, y_label, save_path):\n",
    "    fig, ax = plt.subplots()\n",
    "\n",
    "    colors = ['blue', 'red', 'green']  # 可以根據變量的數量添加更多的顏色\n",
    "\n",
    "    for i, var in enumerate(variable):\n",
    "        data = df.loc[(df['Country Name'].isin(select_country)), [x_label, var]]\n",
    "        data = data.pivot(index=x_label, columns='Country Name', values=var)\n",
    "        data.plot(ax=ax, color=colors[i], label=var)\n",
    "\n",
    "    ax.set_xlabel(x_label)\n",
    "    ax.set_ylabel(y_label)\n",
    "    ax.legend(loc='best')\n",
    "\n",
    "    plt_country = plt.show()\n",
    "    if save_path is not None:\n",
    "            fig.savefig(save_path, dpi=300, bbox_inches='tight')\n",
    "            if save_path is not None:\n",
    "                if not os.path.exists(os.path.dirname(save_path)):\n",
    "                    os.makedirs(os.path.dirname(save_path))\n",
    "                    fig.savefig(save_path)\n",
    "    return df\n",
    "\n"
   ]
  },
  {
   "cell_type": "code",
   "execution_count": 133,
   "id": "c5d4700c",
   "metadata": {
    "scrolled": true
   },
   "outputs": [],
   "source": [
    "\n",
    "if __name__ == '__main__':\n",
    "    df = pd.read_excel(\n",
    "        \"/Users/wei/UCD-MPH/MPH-Lecture:Modules/MPH Dissertation/Data/19_ratified_country.xlsx\")\n",
    "    select_country = df['Country Name'].unique()\n",
    "    variable = [\n",
    "        'Female_Total_Percentage_of_Cause_Specific_Deaths_Out_Of_Total_Deaths',\n",
    "        'Male_Total_Percentage_of_Cause_Specific_Deaths_Out_Of_Total_Deaths',\n",
    "        'All_Total_Percentage_of_Cause_Specific_Deaths_Out_Of_Total_Deaths',\n",
    "        'Female_Estimate_of_Current_Tobacco_Use_Prevalence_age_standardized_rate',\n",
    "        'Male_Estimate_of_Current_Tobacco_Use_Prevalence_age_standardized_rate',\n",
    "        'All_Estimate_of_Current_Tobacco_Use_Prevalence_age_standardized_rate'\n",
    "    ]\n",
    "    x_label = 'Year'\n",
    "    y_label = 'Total Percentage of CVD Mortality & Prevalence of Tobacco Use'\n",
    "    save_path = '/Users/wei/Python/MPHDissertation/test_file/plot.png'\n"
   ]
  },
  {
   "cell_type": "code",
   "execution_count": 134,
   "id": "d62f7b97",
   "metadata": {},
   "outputs": [
    {
     "ename": "KeyError",
     "evalue": "'Country Name'",
     "output_type": "error",
     "traceback": [
      "\u001b[0;31m---------------------------------------------------------------------------\u001b[0m",
      "\u001b[0;31mKeyError\u001b[0m                                  Traceback (most recent call last)",
      "\u001b[0;32m~/opt/anaconda3/lib/python3.8/site-packages/pandas/core/indexes/base.py\u001b[0m in \u001b[0;36mget_loc\u001b[0;34m(self, key, method, tolerance)\u001b[0m\n\u001b[1;32m   3079\u001b[0m             \u001b[0;32mtry\u001b[0m\u001b[0;34m:\u001b[0m\u001b[0;34m\u001b[0m\u001b[0;34m\u001b[0m\u001b[0m\n\u001b[0;32m-> 3080\u001b[0;31m                 \u001b[0;32mreturn\u001b[0m \u001b[0mself\u001b[0m\u001b[0;34m.\u001b[0m\u001b[0m_engine\u001b[0m\u001b[0;34m.\u001b[0m\u001b[0mget_loc\u001b[0m\u001b[0;34m(\u001b[0m\u001b[0mcasted_key\u001b[0m\u001b[0;34m)\u001b[0m\u001b[0;34m\u001b[0m\u001b[0;34m\u001b[0m\u001b[0m\n\u001b[0m\u001b[1;32m   3081\u001b[0m             \u001b[0;32mexcept\u001b[0m \u001b[0mKeyError\u001b[0m \u001b[0;32mas\u001b[0m \u001b[0merr\u001b[0m\u001b[0;34m:\u001b[0m\u001b[0;34m\u001b[0m\u001b[0;34m\u001b[0m\u001b[0m\n",
      "\u001b[0;32mpandas/_libs/index.pyx\u001b[0m in \u001b[0;36mpandas._libs.index.IndexEngine.get_loc\u001b[0;34m()\u001b[0m\n",
      "\u001b[0;32mpandas/_libs/index.pyx\u001b[0m in \u001b[0;36mpandas._libs.index.IndexEngine.get_loc\u001b[0;34m()\u001b[0m\n",
      "\u001b[0;32mpandas/_libs/hashtable_class_helper.pxi\u001b[0m in \u001b[0;36mpandas._libs.hashtable.PyObjectHashTable.get_item\u001b[0;34m()\u001b[0m\n",
      "\u001b[0;32mpandas/_libs/hashtable_class_helper.pxi\u001b[0m in \u001b[0;36mpandas._libs.hashtable.PyObjectHashTable.get_item\u001b[0;34m()\u001b[0m\n",
      "\u001b[0;31mKeyError\u001b[0m: 'Country Name'",
      "\nThe above exception was the direct cause of the following exception:\n",
      "\u001b[0;31mKeyError\u001b[0m                                  Traceback (most recent call last)",
      "\u001b[0;32m<ipython-input-134-bd6288e2fc4d>\u001b[0m in \u001b[0;36m<module>\u001b[0;34m\u001b[0m\n\u001b[0;32m----> 1\u001b[0;31m \u001b[0mplot_relationship\u001b[0m\u001b[0;34m(\u001b[0m\u001b[0mdf\u001b[0m\u001b[0;34m,\u001b[0m \u001b[0mselect_country\u001b[0m\u001b[0;34m,\u001b[0m \u001b[0mvariable\u001b[0m\u001b[0;34m,\u001b[0m \u001b[0mx_label\u001b[0m\u001b[0;34m,\u001b[0m \u001b[0my_label\u001b[0m\u001b[0;34m,\u001b[0m \u001b[0msave_path\u001b[0m\u001b[0;34m)\u001b[0m\u001b[0;34m\u001b[0m\u001b[0;34m\u001b[0m\u001b[0m\n\u001b[0m",
      "\u001b[0;32m<ipython-input-132-dd3a35ea4c0d>\u001b[0m in \u001b[0;36mplot_relationship\u001b[0;34m(df, select_country, variable, x_label, y_label, save_path)\u001b[0m\n\u001b[1;32m      9\u001b[0m     \u001b[0;32mfor\u001b[0m \u001b[0mi\u001b[0m\u001b[0;34m,\u001b[0m \u001b[0mvar\u001b[0m \u001b[0;32min\u001b[0m \u001b[0menumerate\u001b[0m\u001b[0;34m(\u001b[0m\u001b[0mvariable\u001b[0m\u001b[0;34m)\u001b[0m\u001b[0;34m:\u001b[0m\u001b[0;34m\u001b[0m\u001b[0;34m\u001b[0m\u001b[0m\n\u001b[1;32m     10\u001b[0m         \u001b[0mdata\u001b[0m \u001b[0;34m=\u001b[0m \u001b[0mdf\u001b[0m\u001b[0;34m.\u001b[0m\u001b[0mloc\u001b[0m\u001b[0;34m[\u001b[0m\u001b[0;34m(\u001b[0m\u001b[0mdf\u001b[0m\u001b[0;34m[\u001b[0m\u001b[0;34m'Country Name'\u001b[0m\u001b[0;34m]\u001b[0m\u001b[0;34m.\u001b[0m\u001b[0misin\u001b[0m\u001b[0;34m(\u001b[0m\u001b[0mselect_country\u001b[0m\u001b[0;34m)\u001b[0m\u001b[0;34m)\u001b[0m\u001b[0;34m,\u001b[0m \u001b[0;34m[\u001b[0m\u001b[0mx_label\u001b[0m\u001b[0;34m,\u001b[0m \u001b[0mvar\u001b[0m\u001b[0;34m]\u001b[0m\u001b[0;34m]\u001b[0m\u001b[0;34m\u001b[0m\u001b[0;34m\u001b[0m\u001b[0m\n\u001b[0;32m---> 11\u001b[0;31m         \u001b[0mdata\u001b[0m \u001b[0;34m=\u001b[0m \u001b[0mdata\u001b[0m\u001b[0;34m.\u001b[0m\u001b[0mpivot\u001b[0m\u001b[0;34m(\u001b[0m\u001b[0mindex\u001b[0m\u001b[0;34m=\u001b[0m\u001b[0mx_label\u001b[0m\u001b[0;34m,\u001b[0m \u001b[0mcolumns\u001b[0m\u001b[0;34m=\u001b[0m\u001b[0;34m'Country Name'\u001b[0m\u001b[0;34m,\u001b[0m \u001b[0mvalues\u001b[0m\u001b[0;34m=\u001b[0m\u001b[0mvar\u001b[0m\u001b[0;34m)\u001b[0m\u001b[0;34m\u001b[0m\u001b[0;34m\u001b[0m\u001b[0m\n\u001b[0m\u001b[1;32m     12\u001b[0m         \u001b[0mdata\u001b[0m\u001b[0;34m.\u001b[0m\u001b[0mplot\u001b[0m\u001b[0;34m(\u001b[0m\u001b[0max\u001b[0m\u001b[0;34m=\u001b[0m\u001b[0max\u001b[0m\u001b[0;34m,\u001b[0m \u001b[0mcolor\u001b[0m\u001b[0;34m=\u001b[0m\u001b[0mcolors\u001b[0m\u001b[0;34m[\u001b[0m\u001b[0mi\u001b[0m\u001b[0;34m]\u001b[0m\u001b[0;34m,\u001b[0m \u001b[0mlabel\u001b[0m\u001b[0;34m=\u001b[0m\u001b[0mvar\u001b[0m\u001b[0;34m)\u001b[0m\u001b[0;34m\u001b[0m\u001b[0;34m\u001b[0m\u001b[0m\n\u001b[1;32m     13\u001b[0m \u001b[0;34m\u001b[0m\u001b[0m\n",
      "\u001b[0;32m~/opt/anaconda3/lib/python3.8/site-packages/pandas/core/frame.py\u001b[0m in \u001b[0;36mpivot\u001b[0;34m(self, index, columns, values)\u001b[0m\n\u001b[1;32m   6877\u001b[0m         \u001b[0;32mfrom\u001b[0m \u001b[0mpandas\u001b[0m\u001b[0;34m.\u001b[0m\u001b[0mcore\u001b[0m\u001b[0;34m.\u001b[0m\u001b[0mreshape\u001b[0m\u001b[0;34m.\u001b[0m\u001b[0mpivot\u001b[0m \u001b[0;32mimport\u001b[0m \u001b[0mpivot\u001b[0m\u001b[0;34m\u001b[0m\u001b[0;34m\u001b[0m\u001b[0m\n\u001b[1;32m   6878\u001b[0m \u001b[0;34m\u001b[0m\u001b[0m\n\u001b[0;32m-> 6879\u001b[0;31m         \u001b[0;32mreturn\u001b[0m \u001b[0mpivot\u001b[0m\u001b[0;34m(\u001b[0m\u001b[0mself\u001b[0m\u001b[0;34m,\u001b[0m \u001b[0mindex\u001b[0m\u001b[0;34m=\u001b[0m\u001b[0mindex\u001b[0m\u001b[0;34m,\u001b[0m \u001b[0mcolumns\u001b[0m\u001b[0;34m=\u001b[0m\u001b[0mcolumns\u001b[0m\u001b[0;34m,\u001b[0m \u001b[0mvalues\u001b[0m\u001b[0;34m=\u001b[0m\u001b[0mvalues\u001b[0m\u001b[0;34m)\u001b[0m\u001b[0;34m\u001b[0m\u001b[0;34m\u001b[0m\u001b[0m\n\u001b[0m\u001b[1;32m   6880\u001b[0m \u001b[0;34m\u001b[0m\u001b[0m\n\u001b[1;32m   6881\u001b[0m     _shared_docs[\n",
      "\u001b[0;32m~/opt/anaconda3/lib/python3.8/site-packages/pandas/core/reshape/pivot.py\u001b[0m in \u001b[0;36mpivot\u001b[0;34m(data, index, columns, values)\u001b[0m\n\u001b[1;32m    447\u001b[0m             \u001b[0mindex\u001b[0m \u001b[0;34m=\u001b[0m \u001b[0;34m[\u001b[0m\u001b[0mdata\u001b[0m\u001b[0;34m[\u001b[0m\u001b[0midx\u001b[0m\u001b[0;34m]\u001b[0m \u001b[0;32mfor\u001b[0m \u001b[0midx\u001b[0m \u001b[0;32min\u001b[0m \u001b[0mindex\u001b[0m\u001b[0;34m]\u001b[0m\u001b[0;34m\u001b[0m\u001b[0;34m\u001b[0m\u001b[0m\n\u001b[1;32m    448\u001b[0m \u001b[0;34m\u001b[0m\u001b[0m\n\u001b[0;32m--> 449\u001b[0;31m         \u001b[0mdata_columns\u001b[0m \u001b[0;34m=\u001b[0m \u001b[0;34m[\u001b[0m\u001b[0mdata\u001b[0m\u001b[0;34m[\u001b[0m\u001b[0mcol\u001b[0m\u001b[0;34m]\u001b[0m \u001b[0;32mfor\u001b[0m \u001b[0mcol\u001b[0m \u001b[0;32min\u001b[0m \u001b[0mcolumns\u001b[0m\u001b[0;34m]\u001b[0m\u001b[0;34m\u001b[0m\u001b[0;34m\u001b[0m\u001b[0m\n\u001b[0m\u001b[1;32m    450\u001b[0m         \u001b[0mindex\u001b[0m\u001b[0;34m.\u001b[0m\u001b[0mextend\u001b[0m\u001b[0;34m(\u001b[0m\u001b[0mdata_columns\u001b[0m\u001b[0;34m)\u001b[0m\u001b[0;34m\u001b[0m\u001b[0;34m\u001b[0m\u001b[0m\n\u001b[1;32m    451\u001b[0m         \u001b[0mindex\u001b[0m \u001b[0;34m=\u001b[0m \u001b[0mMultiIndex\u001b[0m\u001b[0;34m.\u001b[0m\u001b[0mfrom_arrays\u001b[0m\u001b[0;34m(\u001b[0m\u001b[0mindex\u001b[0m\u001b[0;34m)\u001b[0m\u001b[0;34m\u001b[0m\u001b[0;34m\u001b[0m\u001b[0m\n",
      "\u001b[0;32m~/opt/anaconda3/lib/python3.8/site-packages/pandas/core/reshape/pivot.py\u001b[0m in \u001b[0;36m<listcomp>\u001b[0;34m(.0)\u001b[0m\n\u001b[1;32m    447\u001b[0m             \u001b[0mindex\u001b[0m \u001b[0;34m=\u001b[0m \u001b[0;34m[\u001b[0m\u001b[0mdata\u001b[0m\u001b[0;34m[\u001b[0m\u001b[0midx\u001b[0m\u001b[0;34m]\u001b[0m \u001b[0;32mfor\u001b[0m \u001b[0midx\u001b[0m \u001b[0;32min\u001b[0m \u001b[0mindex\u001b[0m\u001b[0;34m]\u001b[0m\u001b[0;34m\u001b[0m\u001b[0;34m\u001b[0m\u001b[0m\n\u001b[1;32m    448\u001b[0m \u001b[0;34m\u001b[0m\u001b[0m\n\u001b[0;32m--> 449\u001b[0;31m         \u001b[0mdata_columns\u001b[0m \u001b[0;34m=\u001b[0m \u001b[0;34m[\u001b[0m\u001b[0mdata\u001b[0m\u001b[0;34m[\u001b[0m\u001b[0mcol\u001b[0m\u001b[0;34m]\u001b[0m \u001b[0;32mfor\u001b[0m \u001b[0mcol\u001b[0m \u001b[0;32min\u001b[0m \u001b[0mcolumns\u001b[0m\u001b[0;34m]\u001b[0m\u001b[0;34m\u001b[0m\u001b[0;34m\u001b[0m\u001b[0m\n\u001b[0m\u001b[1;32m    450\u001b[0m         \u001b[0mindex\u001b[0m\u001b[0;34m.\u001b[0m\u001b[0mextend\u001b[0m\u001b[0;34m(\u001b[0m\u001b[0mdata_columns\u001b[0m\u001b[0;34m)\u001b[0m\u001b[0;34m\u001b[0m\u001b[0;34m\u001b[0m\u001b[0m\n\u001b[1;32m    451\u001b[0m         \u001b[0mindex\u001b[0m \u001b[0;34m=\u001b[0m \u001b[0mMultiIndex\u001b[0m\u001b[0;34m.\u001b[0m\u001b[0mfrom_arrays\u001b[0m\u001b[0;34m(\u001b[0m\u001b[0mindex\u001b[0m\u001b[0;34m)\u001b[0m\u001b[0;34m\u001b[0m\u001b[0;34m\u001b[0m\u001b[0m\n",
      "\u001b[0;32m~/opt/anaconda3/lib/python3.8/site-packages/pandas/core/frame.py\u001b[0m in \u001b[0;36m__getitem__\u001b[0;34m(self, key)\u001b[0m\n\u001b[1;32m   3022\u001b[0m             \u001b[0;32mif\u001b[0m \u001b[0mself\u001b[0m\u001b[0;34m.\u001b[0m\u001b[0mcolumns\u001b[0m\u001b[0;34m.\u001b[0m\u001b[0mnlevels\u001b[0m \u001b[0;34m>\u001b[0m \u001b[0;36m1\u001b[0m\u001b[0;34m:\u001b[0m\u001b[0;34m\u001b[0m\u001b[0;34m\u001b[0m\u001b[0m\n\u001b[1;32m   3023\u001b[0m                 \u001b[0;32mreturn\u001b[0m \u001b[0mself\u001b[0m\u001b[0;34m.\u001b[0m\u001b[0m_getitem_multilevel\u001b[0m\u001b[0;34m(\u001b[0m\u001b[0mkey\u001b[0m\u001b[0;34m)\u001b[0m\u001b[0;34m\u001b[0m\u001b[0;34m\u001b[0m\u001b[0m\n\u001b[0;32m-> 3024\u001b[0;31m             \u001b[0mindexer\u001b[0m \u001b[0;34m=\u001b[0m \u001b[0mself\u001b[0m\u001b[0;34m.\u001b[0m\u001b[0mcolumns\u001b[0m\u001b[0;34m.\u001b[0m\u001b[0mget_loc\u001b[0m\u001b[0;34m(\u001b[0m\u001b[0mkey\u001b[0m\u001b[0;34m)\u001b[0m\u001b[0;34m\u001b[0m\u001b[0;34m\u001b[0m\u001b[0m\n\u001b[0m\u001b[1;32m   3025\u001b[0m             \u001b[0;32mif\u001b[0m \u001b[0mis_integer\u001b[0m\u001b[0;34m(\u001b[0m\u001b[0mindexer\u001b[0m\u001b[0;34m)\u001b[0m\u001b[0;34m:\u001b[0m\u001b[0;34m\u001b[0m\u001b[0;34m\u001b[0m\u001b[0m\n\u001b[1;32m   3026\u001b[0m                 \u001b[0mindexer\u001b[0m \u001b[0;34m=\u001b[0m \u001b[0;34m[\u001b[0m\u001b[0mindexer\u001b[0m\u001b[0;34m]\u001b[0m\u001b[0;34m\u001b[0m\u001b[0;34m\u001b[0m\u001b[0m\n",
      "\u001b[0;32m~/opt/anaconda3/lib/python3.8/site-packages/pandas/core/indexes/base.py\u001b[0m in \u001b[0;36mget_loc\u001b[0;34m(self, key, method, tolerance)\u001b[0m\n\u001b[1;32m   3080\u001b[0m                 \u001b[0;32mreturn\u001b[0m \u001b[0mself\u001b[0m\u001b[0;34m.\u001b[0m\u001b[0m_engine\u001b[0m\u001b[0;34m.\u001b[0m\u001b[0mget_loc\u001b[0m\u001b[0;34m(\u001b[0m\u001b[0mcasted_key\u001b[0m\u001b[0;34m)\u001b[0m\u001b[0;34m\u001b[0m\u001b[0;34m\u001b[0m\u001b[0m\n\u001b[1;32m   3081\u001b[0m             \u001b[0;32mexcept\u001b[0m \u001b[0mKeyError\u001b[0m \u001b[0;32mas\u001b[0m \u001b[0merr\u001b[0m\u001b[0;34m:\u001b[0m\u001b[0;34m\u001b[0m\u001b[0;34m\u001b[0m\u001b[0m\n\u001b[0;32m-> 3082\u001b[0;31m                 \u001b[0;32mraise\u001b[0m \u001b[0mKeyError\u001b[0m\u001b[0;34m(\u001b[0m\u001b[0mkey\u001b[0m\u001b[0;34m)\u001b[0m \u001b[0;32mfrom\u001b[0m \u001b[0merr\u001b[0m\u001b[0;34m\u001b[0m\u001b[0;34m\u001b[0m\u001b[0m\n\u001b[0m\u001b[1;32m   3083\u001b[0m \u001b[0;34m\u001b[0m\u001b[0m\n\u001b[1;32m   3084\u001b[0m         \u001b[0;32mif\u001b[0m \u001b[0mtolerance\u001b[0m \u001b[0;32mis\u001b[0m \u001b[0;32mnot\u001b[0m \u001b[0;32mNone\u001b[0m\u001b[0;34m:\u001b[0m\u001b[0;34m\u001b[0m\u001b[0;34m\u001b[0m\u001b[0m\n",
      "\u001b[0;31mKeyError\u001b[0m: 'Country Name'"
     ]
    },
    {
     "data": {
      "image/png": "[encoded data removed]",
      "text/plain": [
       "<Figure size 432x288 with 1 Axes>"
      ]
     },
     "metadata": {
      "needs_background": "light"
     },
     "output_type": "display_data"
    }
   ],
   "source": [
    "plot_relationship(df, select_country, variable, x_label, y_label, save_path)"
   ]
  },
  {
   "cell_type": "code",
   "execution_count": 4,
   "id": "4143f0f2",
   "metadata": {},
   "outputs": [
    {
     "name": "stdout",
     "output_type": "stream",
     "text": [
      "/Users/wei/Python/MPHDissertation/test_file/plot.png does not exist.\n"
     ]
    }
   ],
   "source": [
    "\n",
    "import pandas as pd\n",
    "import matplotlib.pyplot as plt\n",
    "from typing import Optional, List, Union\n",
    "from pathlib import Path\n",
    "import os\n",
    "def plot_relationship(df: pd.DataFrame,\n",
    "                      select_country: Optional[List[str]] = None,\n",
    "                      variable_1: Optional[List[str]] = None,\n",
    "                      variable_2: Optional[List[str]] = None,\n",
    "                      x_label: Optional[str] = None,\n",
    "                      y_label: Optional[str] = None,\n",
    "                      save_path: Optional[Path] = None) -> None:\n",
    "    # convert 'Year' column to string type\n",
    "    df['Year'] = df['Year'].astype(str)\n",
    "    # filter by selected countries\n",
    "    if select_country is not None:\n",
    "        for country in select_country:\n",
    "            country_df = df[df['Country Name'] == country]\n",
    "            # check if both variables exist in the DataFrame\n",
    "            if variable_1 is not None and variable_1[0] in country_df.columns and \\\n",
    "                    variable_2 is not None and variable_2[0] in country_df.columns:\n",
    "                # plot the two variables on the same figure\n",
    "                fig, ax1 = plt.subplots()\n",
    "                ax1.plot(country_df['Year'], country_df[variable_1[0]], label=variable_1[0], color='b')\n",
    "                ax1.set_xlabel(x_label or 'Year')\n",
    "                ax1.set_ylabel(variable_1[0], color='b')\n",
    "                ax1.tick_params(axis='y', labelcolor='b')\n",
    "\n",
    "                ax2 = ax1.twinx()\n",
    "                ax2.plot(country_df['Year'], country_df[variable_2[0]], label=variable_2[0], color='r')\n",
    "                ax2.set_ylabel(variable_2[0], color='r')\n",
    "                ax2.tick_params(axis='y', labelcolor='r')\n",
    "\n",
    "                plt.title(f'CVD Mortality and Prevalence of Tobacco Use in {country}')\n",
    "                plt.xticks(country_df['Year'], rotation=90)\n",
    "                plt.title(f'CVD Mortality and Prevalence of Tobacco Use in {country}')\n",
    "                if save_path is not None:\n",
    "                    if not os.path.exists(os.path.dirname(save_path)):\n",
    "                        os.makedirs(os.path.dirname(save_path))\n",
    "                    fig.savefig(save_path, dpi=300, bbox_inches='tight')\n",
    "\n",
    "        plt_country = plt.show()\n",
    "        \n",
    "        return plt_country\n",
    "\n",
    "\n",
    "if __name__ == '__main__':\n",
    "    df = pd.read_excel(\n",
    "        \"/Users/wei/UCD-MPH/MPH-Lecture:Modules/MPH Dissertation/Data/19_ratified_country.xlsx\")\n",
    "    select_country = df['Country Name'].unique()\n",
    "    variable_1 = ['CVD Mortality in Male (%)']\n",
    "    variable_2 = ['Prevalence of Tobacco use in Male (age_standardized_rate) (%)']\n",
    "    x_label = 'Year'\n",
    "    y_label = 'CVD Mortality & Prevalence of Tobacco Use'\n",
    "    save_path = '/Users/wei/Python/MPHDissertation/test_file/plot.png'\n",
    "    df = plot_relationship(df, select_country=select_country, variable_1=variable_1, variable_2=variable_2,\n",
    "                           x_label=x_label, y_label=y_label, save_path=save_path)\n",
    "    if save_path is not None and os.path.isfile(save_path):\n",
    "        print(f\"{save_path} exists.\")\n",
    "    else:\n",
    "        print(f\"{save_path} does not exist.\")\n",
    "\n"
   ]
  },
  {
   "cell_type": "code",
   "execution_count": null,
   "id": "1947c37a",
   "metadata": {},
   "outputs": [],
   "source": []
  },
  {
   "cell_type": "code",
   "execution_count": null,
   "id": "03911aac",
   "metadata": {},
   "outputs": [],
   "source": []
  }
 ],
 "metadata": {
  "kernelspec": {
   "display_name": "Python 3",
   "language": "python",
   "name": "python3"
  },
  "language_info": {
   "codemirror_mode": {
    "name": "ipython",
    "version": 3
   },
   "file_extension": ".py",
   "mimetype": "text/x-python",
   "name": "python",
   "nbconvert_exporter": "python",
   "pygments_lexer": "ipython3",
   "version": "3.8.8"
  }
 },
 "nbformat": 4,
 "nbformat_minor": 5
}
