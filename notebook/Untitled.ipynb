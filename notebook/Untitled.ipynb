{
 "cells": [
  {
   "cell_type": "code",
   "execution_count": null,
   "id": "ff642d7e",
   "metadata": {},
   "outputs": [],
   "source": [
    "%run utility_WHO.py\n",
    "import pandas as pd\n",
    "import numpy as np\n",
    "%load_ext autoreload\n",
    "%autoreload 2\n",
    "df=pd.read_excel(\"/Users/wei/UCD-MPH/MPH-Lecture:Modules/MPH Dissertation/MPH Dissertation/WHO_Cardiovascular_Disease_Mortality_specific_year_Age_over15.xlsx\")\n",
    "df"
   ]
  },
  {
   "cell_type": "code",
   "execution_count": null,
   "id": "3b76b023",
   "metadata": {},
   "outputs": [],
   "source": [
    "#from utility_WHO import total_death"
   ]
  },
  {
   "cell_type": "code",
   "execution_count": null,
   "id": "bad00559",
   "metadata": {},
   "outputs": [],
   "source": [
    "#total_death(df)"
   ]
  },
  {
   "cell_type": "code",
   "execution_count": null,
   "id": "88322b42",
   "metadata": {},
   "outputs": [],
   "source": [
    "pwd"
   ]
  },
  {
   "cell_type": "code",
   "execution_count": null,
   "id": "bc67ca6f",
   "metadata": {},
   "outputs": [],
   "source": [
    "#total_death_data=data['Total number of death']=data['Number']*100/data['Percentage of cause-specific deaths out of total deaths']"
   ]
  },
  {
   "cell_type": "code",
   "execution_count": null,
   "id": "247d21cf",
   "metadata": {},
   "outputs": [],
   "source": [
    "df1=df.insert(8, \"Total number of death\", df['Number']*100/df['Percentage of cause-specific deaths out of total deaths'])"
   ]
  },
  {
   "cell_type": "code",
   "execution_count": null,
   "id": "2061b04c",
   "metadata": {},
   "outputs": [],
   "source": [
    "#df1.insert(9, \"Total number of death_Gender\", df['Number']*100/df['Percentage of cause-specific deaths out of total deaths'])"
   ]
  },
  {
   "cell_type": "code",
   "execution_count": null,
   "id": "24238deb",
   "metadata": {},
   "outputs": [],
   "source": [
    "#分別把每個國家及每個年份的Male and Female 的 SUM of number/ SUM of Total number of death * 100 --> 新的col n row. (每15個算一次)\n",
    "#每個男生 女生 all 都有15個年齡層. "
   ]
  },
  {
   "cell_type": "markdown",
   "id": "7be90448",
   "metadata": {},
   "source": []
  },
  {
   "cell_type": "code",
   "execution_count": 1,
   "id": "cd4affc4",
   "metadata": {},
   "outputs": [
    {
     "data": {
      "text/html": [
       "<div>\n",
       "<style scoped>\n",
       "    .dataframe tbody tr th:only-of-type {\n",
       "        vertical-align: middle;\n",
       "    }\n",
       "\n",
       "    .dataframe tbody tr th {\n",
       "        vertical-align: top;\n",
       "    }\n",
       "\n",
       "    .dataframe thead th {\n",
       "        text-align: right;\n",
       "    }\n",
       "</style>\n",
       "<table border=\"1\" class=\"dataframe\">\n",
       "  <thead>\n",
       "    <tr style=\"text-align: right;\">\n",
       "      <th></th>\n",
       "      <th>col1</th>\n",
       "      <th>col2</th>\n",
       "      <th>col3</th>\n",
       "    </tr>\n",
       "  </thead>\n",
       "  <tbody>\n",
       "    <tr>\n",
       "      <th>0</th>\n",
       "      <td>1</td>\n",
       "      <td>5</td>\n",
       "      <td>9.0</td>\n",
       "    </tr>\n",
       "    <tr>\n",
       "      <th>1</th>\n",
       "      <td>2</td>\n",
       "      <td>6</td>\n",
       "      <td>10.0</td>\n",
       "    </tr>\n",
       "    <tr>\n",
       "      <th>2</th>\n",
       "      <td>3</td>\n",
       "      <td>7</td>\n",
       "      <td>11.0</td>\n",
       "    </tr>\n",
       "    <tr>\n",
       "      <th>3</th>\n",
       "      <td>4</td>\n",
       "      <td>8</td>\n",
       "      <td>NaN</td>\n",
       "    </tr>\n",
       "  </tbody>\n",
       "</table>\n",
       "</div>"
      ],
      "text/plain": [
       "   col1  col2  col3\n",
       "0     1     5   9.0\n",
       "1     2     6  10.0\n",
       "2     3     7  11.0\n",
       "3     4     8   NaN"
      ]
     },
     "execution_count": 1,
     "metadata": {},
     "output_type": "execute_result"
    }
   ],
   "source": [
    "import pandas as pd\n",
    "\n",
    "# Create a DataFrame with 4 rows and 2 columns\n",
    "df = pd.DataFrame({'col1': [1, 2, 3, 4], 'col2': [5, 6, 7, 8]})\n",
    "\n",
    "# Reset the index of the DataFrame, so the new column will be aligned correctly\n",
    "df = df.reset_index(drop=True)\n",
    "\n",
    "# Insert the new column with 3 values\n",
    "df['col3'] = pd.Series([9, 10, 11])\n",
    "\n",
    "# Now the DataFrame has 3 columns and 3 rows\n",
    "df"
   ]
  },
  {
   "cell_type": "code",
   "execution_count": 1,
   "id": "6a67a92e",
   "metadata": {},
   "outputs": [],
   "source": [
    "    #    entity_list = df['Entity'].unique()\n",
    "    #    year_list = df['Year'].unique()\n",
    "    #    sex_list = df['Sex'].unique()\n",
    "    #    for entity in entity_list:\n",
    "    #        for year in year_list:\n",
    "    #            for sex in sex_list:\n",
    "    #                mask_a = df['Entity'] == entity\n",
    "    #                mask_b = df['Year'] == year\n",
    "    #                mask_c = df['Sex'] == sex\n",
    "\n",
    "    #                mask_all = mask_a & mask_b & mask_c\n",
    "\n",
    "    #                print(df[mask_all].shape[0])"
   ]
  },
  {
   "cell_type": "code",
   "execution_count": 6,
   "id": "c9c7bbbb",
   "metadata": {},
   "outputs": [
    {
     "ename": "NameError",
     "evalue": "name 'ireland' is not defined",
     "output_type": "error",
     "traceback": [
      "\u001b[0;31m---------------------------------------------------------------------------\u001b[0m",
      "\u001b[0;31mNameError\u001b[0m                                 Traceback (most recent call last)",
      "\u001b[0;32m<ipython-input-6-cb89c8f77503>\u001b[0m in \u001b[0;36m<module>\u001b[0;34m\u001b[0m\n\u001b[1;32m      3\u001b[0m     \u001b[0mprint\u001b[0m\u001b[0;34m(\u001b[0m\u001b[0;34m'Hello, world!'\u001b[0m\u001b[0;34m)\u001b[0m\u001b[0;34m\u001b[0m\u001b[0;34m\u001b[0m\u001b[0m\n\u001b[1;32m      4\u001b[0m \u001b[0;34m\u001b[0m\u001b[0m\n\u001b[0;32m----> 5\u001b[0;31m \u001b[0mireland\u001b[0m\u001b[0;34m(\u001b[0m\u001b[0;34m)\u001b[0m\u001b[0;34m\u001b[0m\u001b[0;34m\u001b[0m\u001b[0m\n\u001b[0m\u001b[1;32m      6\u001b[0m \u001b[0;34m\u001b[0m\u001b[0m\n",
      "\u001b[0;31mNameError\u001b[0m: name 'ireland' is not defined"
     ]
    }
   ],
   "source": [
    "def Ireland():\n",
    "    # Code to be executed goes here\n",
    "    print('Hello, world!')\n",
    "\n",
    "if __name__ == '__main__':\n",
    "    \n"
   ]
  },
  {
   "cell_type": "code",
   "execution_count": 9,
   "id": "40b4996f",
   "metadata": {},
   "outputs": [],
   "source": [
    "import pandas as pd \n",
    "import numpy as np\n",
    "\n",
    "df = pd.DataFrame({'Number': [1, 2, 3], 'Percentage': [50, 50, 50]})\n",
    "numbers = df['Number']\n",
    "percentage = df['Percentage']\n",
    "df[\"Total number of death\"] = numbers * 100 / percentage\n",
    "total_number_of_death = df[\"Total number of death\"]\n",
    "mask_nan = np.isnan(total_number_of_death)  # type: pd.Series[bool]\n",
    "\n",
    "# Use .loc to modify the original data instead of creating a copy\n",
    "df.loc[mask_nan, 'Total number of death'] = 0\n",
    "df['Total number of death'] = df['Total number of death'].astype(int)\n"
   ]
  },
  {
   "cell_type": "code",
   "execution_count": 11,
   "id": "ba138c73",
   "metadata": {},
   "outputs": [],
   "source": [
    "import pandas as pd\n",
    "df = pd.DataFrame({'col1': [1, 2, 3, 4], 'col2': [5, 6, 7, 8]})\n",
    "import pprint"
   ]
  },
  {
   "cell_type": "code",
   "execution_count": 13,
   "id": "daa6fefb",
   "metadata": {},
   "outputs": [
    {
     "name": "stdout",
     "output_type": "stream",
     "text": [
      "   col1  col2\n",
      "0     1     5\n",
      "1     2     6\n",
      "2     3     7\n",
      "3     4     8\n"
     ]
    }
   ],
   "source": [
    "print(df)"
   ]
  },
  {
   "cell_type": "code",
   "execution_count": 15,
   "id": "f756168e",
   "metadata": {},
   "outputs": [
    {
     "name": "stdout",
     "output_type": "stream",
     "text": [
      "   col1  col2\n",
      "0     1     5\n",
      "1     2     6\n",
      "2     3     7\n",
      "3     4     8\n"
     ]
    }
   ],
   "source": [
    "pprint.pprint(df)"
   ]
  },
  {
   "cell_type": "code",
   "execution_count": 16,
   "id": "f6f19d7e",
   "metadata": {},
   "outputs": [
    {
     "name": "stdout",
     "output_type": "stream",
     "text": [
      "{'age': 30,\n",
      " 'city': 'New York',\n",
      " 'name': 'John',\n",
      " 'skills': ['Python', 'Java', 'C++']}\n"
     ]
    }
   ],
   "source": [
    "import pprint\n",
    "\n",
    "data = {'name': 'John', 'age': 30, 'city': 'New York', 'skills': ['Python', 'Java', 'C++']}\n",
    "pprint.pprint(data)\n"
   ]
  },
  {
   "cell_type": "code",
   "execution_count": 17,
   "id": "8cfa7daf",
   "metadata": {},
   "outputs": [
    {
     "name": "stdout",
     "output_type": "stream",
     "text": [
      "{'name': 'John', 'age': 30, 'city': 'New York', 'skills': ['Python', 'Java', 'C++']}\n"
     ]
    }
   ],
   "source": [
    "print (data)"
   ]
  },
  {
   "cell_type": "code",
   "execution_count": 18,
   "id": "62fc0614",
   "metadata": {},
   "outputs": [
    {
     "ename": "AttributeError",
     "evalue": "'itertools.groupby' object has no attribute 'groups'",
     "output_type": "error",
     "traceback": [
      "\u001b[0;31m---------------------------------------------------------------------------\u001b[0m",
      "\u001b[0;31mAttributeError\u001b[0m                            Traceback (most recent call last)",
      "\u001b[0;32m<ipython-input-18-c1cf42067d7b>\u001b[0m in \u001b[0;36m<module>\u001b[0;34m\u001b[0m\n\u001b[1;32m      7\u001b[0m \u001b[0;34m\u001b[0m\u001b[0m\n\u001b[1;32m      8\u001b[0m \u001b[0mgrouped_data\u001b[0m \u001b[0;34m=\u001b[0m \u001b[0mgroupby\u001b[0m\u001b[0;34m(\u001b[0m\u001b[0mdata\u001b[0m\u001b[0;34m,\u001b[0m \u001b[0mkey\u001b[0m\u001b[0;34m=\u001b[0m\u001b[0mis_even\u001b[0m\u001b[0;34m)\u001b[0m\u001b[0;34m\u001b[0m\u001b[0;34m\u001b[0m\u001b[0m\n\u001b[0;32m----> 9\u001b[0;31m \u001b[0mkeys\u001b[0m \u001b[0;34m=\u001b[0m \u001b[0mgrouped_data\u001b[0m\u001b[0;34m.\u001b[0m\u001b[0mgroups\u001b[0m\u001b[0;34m.\u001b[0m\u001b[0mkeys\u001b[0m\u001b[0;34m(\u001b[0m\u001b[0;34m)\u001b[0m\u001b[0;34m\u001b[0m\u001b[0;34m\u001b[0m\u001b[0m\n\u001b[0m\u001b[1;32m     10\u001b[0m \u001b[0mprint\u001b[0m\u001b[0;34m(\u001b[0m\u001b[0mkeys\u001b[0m\u001b[0;34m)\u001b[0m\u001b[0;34m\u001b[0m\u001b[0;34m\u001b[0m\u001b[0m\n",
      "\u001b[0;31mAttributeError\u001b[0m: 'itertools.groupby' object has no attribute 'groups'"
     ]
    }
   ],
   "source": [
    "from itertools import groupby\n",
    "\n",
    "data = [1, 2, 3, 4, 5, 6, 7, 8, 9, 10]\n",
    "\n",
    "def is_even(n):\n",
    "    return n % 2 == 0\n",
    "\n",
    "grouped_data = groupby(data, key=is_even)\n",
    "keys = grouped_data.groups.keys()\n",
    "print(keys)\n"
   ]
  },
  {
   "cell_type": "code",
   "execution_count": null,
   "id": "c73bbbd9",
   "metadata": {},
   "outputs": [],
   "source": []
  }
 ],
 "metadata": {
  "kernelspec": {
   "display_name": "Python 3",
   "language": "python",
   "name": "python3"
  },
  "language_info": {
   "codemirror_mode": {
    "name": "ipython",
    "version": 3
   },
   "file_extension": ".py",
   "mimetype": "text/x-python",
   "name": "python",
   "nbconvert_exporter": "python",
   "pygments_lexer": "ipython3",
   "version": "3.8.8"
  }
 },
 "nbformat": 4,
 "nbformat_minor": 5
}
