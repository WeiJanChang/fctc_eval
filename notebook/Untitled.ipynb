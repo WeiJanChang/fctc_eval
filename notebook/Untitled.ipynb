{
 "cells": [
  {
   "cell_type": "code",
   "execution_count": null,
   "id": "ff642d7e",
   "metadata": {},
   "outputs": [],
   "source": [
    "%run utility_WHO.py\n",
    "import pandas as pd\n",
    "import numpy as np\n",
    "%load_ext autoreload\n",
    "%autoreload 2\n",
    "df=pd.read_excel(\"/Users/wei/UCD-MPH/MPH-Lecture:Modules/MPH Dissertation/MPH Dissertation/WHO_Cardiovascular_Disease_Mortality_specific_year_Age_over15.xlsx\")\n",
    "df"
   ]
  },
  {
   "cell_type": "code",
   "execution_count": null,
   "id": "3b76b023",
   "metadata": {},
   "outputs": [],
   "source": [
    "#from utility_WHO import total_death"
   ]
  },
  {
   "cell_type": "code",
   "execution_count": null,
   "id": "bad00559",
   "metadata": {},
   "outputs": [],
   "source": [
    "#total_death(df)"
   ]
  },
  {
   "cell_type": "code",
   "execution_count": null,
   "id": "88322b42",
   "metadata": {},
   "outputs": [],
   "source": [
    "pwd"
   ]
  },
  {
   "cell_type": "code",
   "execution_count": null,
   "id": "bc67ca6f",
   "metadata": {},
   "outputs": [],
   "source": [
    "#total_death_data=data['Total number of death']=data['Number']*100/data['Percentage of cause-specific deaths out of total deaths']"
   ]
  },
  {
   "cell_type": "code",
   "execution_count": null,
   "id": "247d21cf",
   "metadata": {},
   "outputs": [],
   "source": [
    "df1=df.insert(8, \"Total number of death\", df['Number']*100/df['Percentage of cause-specific deaths out of total deaths'])"
   ]
  },
  {
   "cell_type": "code",
   "execution_count": null,
   "id": "2061b04c",
   "metadata": {},
   "outputs": [],
   "source": [
    "#df1.insert(9, \"Total number of death_Gender\", df['Number']*100/df['Percentage of cause-specific deaths out of total deaths'])"
   ]
  },
  {
   "cell_type": "code",
   "execution_count": null,
   "id": "24238deb",
   "metadata": {},
   "outputs": [],
   "source": [
    "#分別把每個國家及每個年份的Male and Female 的 SUM of number/ SUM of Total number of death * 100 --> 新的col n row. (每15個算一次)\n",
    "#每個男生 女生 all 都有15個年齡層. "
   ]
  },
  {
   "cell_type": "markdown",
   "id": "7be90448",
   "metadata": {},
   "source": []
  },
  {
   "cell_type": "code",
   "execution_count": 1,
   "id": "cd4affc4",
   "metadata": {},
   "outputs": [
    {
     "data": {
      "text/html": [
       "<div>\n",
       "<style scoped>\n",
       "    .dataframe tbody tr th:only-of-type {\n",
       "        vertical-align: middle;\n",
       "    }\n",
       "\n",
       "    .dataframe tbody tr th {\n",
       "        vertical-align: top;\n",
       "    }\n",
       "\n",
       "    .dataframe thead th {\n",
       "        text-align: right;\n",
       "    }\n",
       "</style>\n",
       "<table border=\"1\" class=\"dataframe\">\n",
       "  <thead>\n",
       "    <tr style=\"text-align: right;\">\n",
       "      <th></th>\n",
       "      <th>col1</th>\n",
       "      <th>col2</th>\n",
       "      <th>col3</th>\n",
       "    </tr>\n",
       "  </thead>\n",
       "  <tbody>\n",
       "    <tr>\n",
       "      <th>0</th>\n",
       "      <td>1</td>\n",
       "      <td>5</td>\n",
       "      <td>9.0</td>\n",
       "    </tr>\n",
       "    <tr>\n",
       "      <th>1</th>\n",
       "      <td>2</td>\n",
       "      <td>6</td>\n",
       "      <td>10.0</td>\n",
       "    </tr>\n",
       "    <tr>\n",
       "      <th>2</th>\n",
       "      <td>3</td>\n",
       "      <td>7</td>\n",
       "      <td>11.0</td>\n",
       "    </tr>\n",
       "    <tr>\n",
       "      <th>3</th>\n",
       "      <td>4</td>\n",
       "      <td>8</td>\n",
       "      <td>NaN</td>\n",
       "    </tr>\n",
       "  </tbody>\n",
       "</table>\n",
       "</div>"
      ],
      "text/plain": [
       "   col1  col2  col3\n",
       "0     1     5   9.0\n",
       "1     2     6  10.0\n",
       "2     3     7  11.0\n",
       "3     4     8   NaN"
      ]
     },
     "execution_count": 1,
     "metadata": {},
     "output_type": "execute_result"
    }
   ],
   "source": [
    "import pandas as pd\n",
    "\n",
    "# Create a DataFrame with 4 rows and 2 columns\n",
    "df = pd.DataFrame({'col1': [1, 2, 3, 4], 'col2': [5, 6, 7, 8]})\n",
    "\n",
    "# Reset the index of the DataFrame, so the new column will be aligned correctly\n",
    "df = df.reset_index(drop=True)\n",
    "\n",
    "# Insert the new column with 3 values\n",
    "df['col3'] = pd.Series([9, 10, 11])\n",
    "\n",
    "# Now the DataFrame has 3 columns and 3 rows\n",
    "df"
   ]
  },
  {
   "cell_type": "code",
   "execution_count": null,
   "id": "2577fa37",
   "metadata": {},
   "outputs": [],
   "source": [
    "    #    entity_list = df['Entity'].unique()\n",
    "    #    year_list = df['Year'].unique()\n",
    "    #    sex_list = df['Sex'].unique()\n",
    "    #    for entity in entity_list:\n",
    "    #        for year in year_list:\n",
    "    #            for sex in sex_list:\n",
    "    #                mask_a = df['Entity'] == entity\n",
    "    #                mask_b = df['Year'] == year\n",
    "    #                mask_c = df['Sex'] == sex\n",
    "\n",
    "    #                mask_all = mask_a & mask_b & mask_c\n",
    "\n",
    "    #                print(df[mask_all].shape[0])"
   ]
  }
 ],
 "metadata": {
  "kernelspec": {
   "display_name": "Python 3",
   "language": "python",
   "name": "python3"
  },
  "language_info": {
   "codemirror_mode": {
    "name": "ipython",
    "version": 3
   },
   "file_extension": ".py",
   "mimetype": "text/x-python",
   "name": "python",
   "nbconvert_exporter": "python",
   "pygments_lexer": "ipython3",
   "version": "3.8.8"
  }
 },
 "nbformat": 4,
 "nbformat_minor": 5
}
