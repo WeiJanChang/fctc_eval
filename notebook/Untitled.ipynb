{
 "cells": [
  {
   "cell_type": "code",
   "execution_count": 13,
   "id": "ff642d7e",
   "metadata": {},
   "outputs": [],
   "source": [
    "import pandas as pd\n",
    "import numpy as np\n",
    "\n",
    "df=pd.read_excel(\"/Users/wei/UCD-MPH/MPH-Lecture:Modules/MPH Dissertation/MPH Dissertation/Final_WHO_CVD_Mortality_modified.xlsx\")\n",
    "df1 = df.dropna()\n",
    "df2 = pd.read_excel('/Users/wei/UCD-MPH/MPH-Lecture:Modules/MPH Dissertation/MPH Dissertation/Tobacco_use_in_WHO_MEMBER_STATES.xlsx')\n",
    "merged_df = pd.merge(df1,df2, on=['Entity','Year'], how = 'outer')\n",
    "merged_df.fillna(value='NaN', inplace =True)\n",
    "merged_df.to_excel('/Users/wei/UCD-MPH/MPH-Lecture:Modules/MPH Dissertation/MPH Dissertation/merged_test.xlsx',index=False)\n",
    "#df.to_excel(\"/Users/wei/UCD-MPH/MPH-Lecture:Modules/MPH Dissertation/MPH Dissertation/Final_WHO_CVD_Mortality_modified.xlsx\")"
   ]
  },
  {
   "cell_type": "code",
   "execution_count": 14,
   "id": "6a67a92e",
   "metadata": {},
   "outputs": [],
   "source": [
    "    #    entity_list = df['Entity'].unique()\n",
    "    #    year_list = df['Year'].unique()\n",
    "    #    sex_list = df['Sex'].unique()\n",
    "    #    for entity in entity_list:\n",
    "    #        for year in year_list:\n",
    "    #            for sex in sex_list:\n",
    "    #                mask_a = df['Entity'] == entity\n",
    "    #                mask_b = df['Year'] == year\n",
    "    #                mask_c = df['Sex'] == sex\n",
    "\n",
    "    #                mask_all = mask_a & mask_b & mask_c\n",
    "\n",
    "    #                print(df[mask_all].shape[0])"
   ]
  },
  {
   "cell_type": "code",
   "execution_count": 18,
   "id": "c4b9e1bd",
   "metadata": {},
   "outputs": [],
   "source": []
  },
  {
   "cell_type": "code",
   "execution_count": 16,
   "id": "4d4c9e3f",
   "metadata": {},
   "outputs": [],
   "source": []
  },
  {
   "cell_type": "code",
   "execution_count": 17,
   "id": "5dbbaf29",
   "metadata": {},
   "outputs": [],
   "source": []
  },
  {
   "cell_type": "code",
   "execution_count": null,
   "id": "e692e7c2",
   "metadata": {},
   "outputs": [],
   "source": []
  }
 ],
 "metadata": {
  "kernelspec": {
   "display_name": "Python 3",
   "language": "python",
   "name": "python3"
  },
  "language_info": {
   "codemirror_mode": {
    "name": "ipython",
    "version": 3
   },
   "file_extension": ".py",
   "mimetype": "text/x-python",
   "name": "python",
   "nbconvert_exporter": "python",
   "pygments_lexer": "ipython3",
   "version": "3.8.8"
  }
 },
 "nbformat": 4,
 "nbformat_minor": 5
}
