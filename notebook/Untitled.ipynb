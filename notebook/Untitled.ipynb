{
 "cells": [
  {
   "cell_type": "code",
   "execution_count": 15,
   "id": "ff642d7e",
   "metadata": {},
   "outputs": [],
   "source": [
    "import pandas as pd\n",
    "import numpy as np\n",
    "\n",
    "df=pd.read_excel(\"/Users/wei/UCD-MPH/MPH-Lecture:Modules/MPH Dissertation/MPH Dissertation/Final_WHO_CVD_Mortality_modified.xlsx\")\n",
    "df = df.dropna()\n",
    "df.to_excel(\"/Users/wei/UCD-MPH/MPH-Lecture:Modules/MPH Dissertation/MPH Dissertation/Final_WHO_CVD_Mortality_modified.xlsx\")"
   ]
  },
  {
   "cell_type": "code",
   "execution_count": 1,
   "id": "6a67a92e",
   "metadata": {},
   "outputs": [],
   "source": [
    "    #    entity_list = df['Entity'].unique()\n",
    "    #    year_list = df['Year'].unique()\n",
    "    #    sex_list = df['Sex'].unique()\n",
    "    #    for entity in entity_list:\n",
    "    #        for year in year_list:\n",
    "    #            for sex in sex_list:\n",
    "    #                mask_a = df['Entity'] == entity\n",
    "    #                mask_b = df['Year'] == year\n",
    "    #                mask_c = df['Sex'] == sex\n",
    "\n",
    "    #                mask_all = mask_a & mask_b & mask_c\n",
    "\n",
    "    #                print(df[mask_all].shape[0])"
   ]
  },
  {
   "cell_type": "code",
   "execution_count": 12,
   "id": "c73bbbd9",
   "metadata": {},
   "outputs": [
    {
     "data": {
      "text/plain": [
       "<bound method DataFrame.drop of       Unnamed: 0      Entity  Year  All_number  Female_number  Male_number  \\\n",
       "0              0     Albania  2000     15175.0         7018.0       8157.0   \n",
       "1              3     Albania  2001     14877.0         6808.0       8069.0   \n",
       "2              6     Albania  2002     15971.0         7523.0       8448.0   \n",
       "3              9     Albania  2003     17808.0         8434.0       9374.0   \n",
       "4             12     Albania  2004     17620.0         8343.0       9277.0   \n",
       "...          ...         ...   ...         ...            ...          ...   \n",
       "4699        5005  Uzbekistan  2018         NaN            NaN          NaN   \n",
       "4700        5006  Uzbekistan  2018         NaN            NaN          NaN   \n",
       "4701        5007  Uzbekistan  2019    186233.0        87354.0      98879.0   \n",
       "4702        5008  Uzbekistan  2019         NaN            NaN          NaN   \n",
       "4703        5009  Uzbekistan  2019         NaN            NaN          NaN   \n",
       "\n",
       "      All_total number of death  Female_total number of death  \\\n",
       "0                       30817.0                       13030.0   \n",
       "1                       29176.0                       12401.0   \n",
       "2                       31488.0                       13811.0   \n",
       "3                       34955.0                       15469.0   \n",
       "4                       34615.0                       15221.0   \n",
       "...                         ...                           ...   \n",
       "4699                        NaN                           NaN   \n",
       "4700                        NaN                           NaN   \n",
       "4701                   297321.0                      135706.0   \n",
       "4702                        NaN                           NaN   \n",
       "4703                        NaN                           NaN   \n",
       "\n",
       "      Male_total number of death  All_total percentage of CVD  \\\n",
       "0                        17783.0                    49.242301   \n",
       "1                        16771.0                    50.990540   \n",
       "2                        17669.0                    50.720910   \n",
       "3                        19484.0                    50.945501   \n",
       "4                        19383.0                    50.902788   \n",
       "...                          ...                          ...   \n",
       "4699                         NaN                          NaN   \n",
       "4700                         NaN                          NaN   \n",
       "4701                    161606.0                    62.637015   \n",
       "4702                         NaN                          NaN   \n",
       "4703                         NaN                          NaN   \n",
       "\n",
       "      Female_total percentage of CVD  Male_total percentage of CVD  \n",
       "0                          53.860322                     45.869651  \n",
       "1                          54.898798                     48.112814  \n",
       "2                          54.471074                     47.812553  \n",
       "3                          54.521947                     48.111271  \n",
       "4                          54.812430                     47.861528  \n",
       "...                              ...                           ...  \n",
       "4699                             NaN                           NaN  \n",
       "4700                             NaN                           NaN  \n",
       "4701                       64.370035                     61.185228  \n",
       "4702                             NaN                           NaN  \n",
       "4703                             NaN                           NaN  \n",
       "\n",
       "[4704 rows x 12 columns]>"
      ]
     },
     "execution_count": 12,
     "metadata": {},
     "output_type": "execute_result"
    }
   ],
   "source": [
    "df.drop"
   ]
  },
  {
   "cell_type": "code",
   "execution_count": null,
   "id": "049376bd",
   "metadata": {},
   "outputs": [],
   "source": [
    ",df['All_total number of death'],df['Female_total number of death'],df['Male_total number of death'],df['All_total percentage of CVD'],df['Female_total percentage of CVD'],df['Male_total percentage of CVD'])"
   ]
  }
 ],
 "metadata": {
  "kernelspec": {
   "display_name": "Python 3",
   "language": "python",
   "name": "python3"
  },
  "language_info": {
   "codemirror_mode": {
    "name": "ipython",
    "version": 3
   },
   "file_extension": ".py",
   "mimetype": "text/x-python",
   "name": "python",
   "nbconvert_exporter": "python",
   "pygments_lexer": "ipython3",
   "version": "3.8.8"
  }
 },
 "nbformat": 4,
 "nbformat_minor": 5
}
